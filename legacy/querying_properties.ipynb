{
 "cells": [
  {
   "cell_type": "markdown",
   "metadata": {},
   "source": [
    "# Querying the Materials Project for computed properties\n",
    "\n",
    "Some properties have not been computed for all the materials in the Materials Project. We can check in a query if a particular material has had a particular property computed for it.\n",
    "\n",
    "These properties are documented here: https://github.com/materialsproject/mapidoc/tree/master/materials/has\n",
    "\n",
    "This querying will rely on the criteria key `has`"
   ]
  },
  {
   "cell_type": "code",
   "execution_count": 1,
   "metadata": {},
   "outputs": [],
   "source": [
    "# Imports\n",
    "from pymatgen.ext.matproj import MPRester\n",
    "from tqdm import tqdm\n",
    "import numpy as np\n",
    "import matplotlib.pyplot as plt\n",
    "from pymatgen.util.plotting import pretty_plot"
   ]
  },
  {
   "cell_type": "code",
   "execution_count": 3,
   "metadata": {},
   "outputs": [],
   "source": [
    "# Let's make a list of the properties for the has keyword\n",
    "\n",
    "properties = ['bandstructure', 'phonons', 'xas', 'surfaces', 'elasticity', 'piezo', 'diel', 'eos']\n",
    "\n"
   ]
  },
  {
   "cell_type": "markdown",
   "metadata": {},
   "source": [
    "Let's begin to query the materials project for each property"
   ]
  },
  {
   "cell_type": "code",
   "execution_count": 6,
   "metadata": {},
   "outputs": [
    {
     "name": "stderr",
     "output_type": "stream",
     "text": [
      "100%|██████████| 74992/74992 [00:56<00:00, 1330.71it/s]\n",
      "100%|██████████| 1512/1512 [00:01<00:00, 1212.77it/s]\n",
      "100%|██████████| 50643/50643 [00:37<00:00, 1364.76it/s]\n",
      "100%|██████████| 13822/13822 [00:09<00:00, 1402.74it/s]\n",
      "100%|██████████| 3399/3399 [00:02<00:00, 1324.79it/s]\n",
      "100%|██████████| 7178/7178 [00:05<00:00, 1422.24it/s]\n",
      "100%|██████████| 8/8 [02:09<00:00, 16.13s/it]\n"
     ]
    }
   ],
   "source": [
    "# We use a dict comprehension to create a dictionary of the (property label:query data) key, value pairs\n",
    "\n",
    "with MPRester() as mpr:\n",
    "    property_dict ={prop:mpr.query(criteria={'has':prop}, properties=['material_id', 'formula_pretty']) for prop in tqdm(properties)}\n"
   ]
  },
  {
   "cell_type": "code",
   "execution_count": 7,
   "metadata": {},
   "outputs": [
    {
     "name": "stdout",
     "output_type": "stream",
     "text": [
      " The property bandstructure has been calculated for 74992 materials. \n",
      "\n",
      " The property phonons has been calculated for 1512 materials. \n",
      "\n",
      " The property xas has been calculated for 50643 materials. \n",
      "\n",
      " The property surfaces has been calculated for 143 materials. \n",
      "\n",
      " The property elasticity has been calculated for 13822 materials. \n",
      "\n",
      " The property piezo has been calculated for 3399 materials. \n",
      "\n",
      " The property diel has been calculated for 7178 materials. \n",
      "\n",
      " The property eos has been calculated for 233 materials. \n",
      "\n"
     ]
    }
   ],
   "source": [
    "# Let's show how many materials have had a particular property calculated\n",
    "\n",
    "for prop, val in property_dict.items():\n",
    "    print(f' The property {prop} has been calculated for {len(val)} materials. \\n')"
   ]
  },
  {
   "cell_type": "markdown",
   "metadata": {},
   "source": [
    "As we can see from the above print statement, a lot of materials in the Materials Project have not had these particular properties calculated for them yet."
   ]
  }
 ],
 "metadata": {
  "kernelspec": {
   "display_name": "Python 3.8.13 ('atomate2_env')",
   "language": "python",
   "name": "python3"
  },
  "language_info": {
   "codemirror_mode": {
    "name": "ipython",
    "version": 3
   },
   "file_extension": ".py",
   "mimetype": "text/x-python",
   "name": "python",
   "nbconvert_exporter": "python",
   "pygments_lexer": "ipython3",
   "version": "3.8.13"
  },
  "orig_nbformat": 4,
  "vscode": {
   "interpreter": {
    "hash": "51a9790b1e1fb99c47e29a52948385f9f109e985a330917619522d69eb0f6192"
   }
  }
 },
 "nbformat": 4,
 "nbformat_minor": 2
}
