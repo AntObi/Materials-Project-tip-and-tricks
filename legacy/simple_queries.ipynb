{
 "cells": [
  {
   "cell_type": "markdown",
   "metadata": {},
   "source": [
    "# Accessing data from the Materials Project (legacy)"
   ]
  },
  {
   "cell_type": "code",
   "execution_count": 1,
   "metadata": {},
   "outputs": [],
   "source": [
    "import pprint\n",
    "\n",
    "from pymatgen.ext.matproj import MPRester\n",
    "\n",
    "# If you haven't set the API KEY in your pmgrc.yaml file or as an environment variable (PMG_MAPI_KEY)\n",
    "# Put the key in the MPRester call e.g MPRester(\"API_KEY\")\n",
    "mpr = MPRester()"
   ]
  },
  {
   "cell_type": "markdown",
   "metadata": {},
   "source": [
    "## Getting structures\n",
    "\n",
    "Let's say we want to find all the structures which contained Lithium and had a band gap higher than 1 eV. We can directly query the MP using MongoDB syntax.\n",
    "To query for a particular element, we use the `elements` parameter. To query for a particular band gap value we use the `band_gap` parameter. The criteria passed to `MPRester` is as follows:\n",
    "```\n",
    "criteria = 'elements':{'$all':['Li']}, 'band_gap' = {'$gte':1}\n",
    "\n",
    "```\n",
    "- `'$all'` indicates that we want all the materials returned by the query to contain Li\n",
    "- `'$gte'` indicates that we want all the materials returned by the the query to have a value of the property (band gap) to be ***greater than*** 1\n",
    "\n",
    "For the parameters that can be used in a Materials Project query, see the documentation (https://github.com/materialsproject/mapidoc/tree/master/materials)\n",
    "\n",
    "For a full description of the MongoDB query operators, please refer to the MongoDB manual (https://www.mongodb.com/docs/manual/reference/operator/query/). \n",
    "Being able to use these operators will enhance your querying."
   ]
  },
  {
   "cell_type": "code",
   "execution_count": 2,
   "metadata": {},
   "outputs": [
    {
     "name": "stderr",
     "output_type": "stream",
     "text": [
      "100%|██████████| 8978/8978 [00:58<00:00, 153.44it/s]"
     ]
    },
    {
     "name": "stdout",
     "output_type": "stream",
     "text": [
      "8978\n"
     ]
    },
    {
     "name": "stderr",
     "output_type": "stream",
     "text": [
      "\n"
     ]
    }
   ],
   "source": [
    "# This defines the query to the materials project\n",
    "criteria = {'elements': {'$all':['Li']}, 'band_gap':{'$gte':1}}\n",
    "\n",
    "# This defines the properties that we are interested in\n",
    "properties= ['material_id', 'pretty_formula', 'structure' ]\n",
    "\n",
    "data = mpr.query(criteria=criteria, properties=properties)\n",
    "\n",
    "print(len(data))"
   ]
  },
  {
   "cell_type": "code",
   "execution_count": 3,
   "metadata": {},
   "outputs": [
    {
     "name": "stdout",
     "output_type": "stream",
     "text": [
      "{'material_id': 'mp-1004373',\n",
      " 'pretty_formula': 'LiMnO2',\n",
      " 'structure': Structure Summary\n",
      "Lattice\n",
      "    abc : 2.873243 5.301665 10.086128\n",
      " angles : 90.0 90.0 90.0\n",
      " volume : 153.64170389541192\n",
      "      A : 2.873243 0.0 0.0\n",
      "      B : 0.0 5.301665 0.0\n",
      "      C : 0.0 0.0 10.086128\n",
      "PeriodicSite: Li (0.7183, 0.5434, 6.1088) [0.2500, 0.1025, 0.6057]\n",
      "PeriodicSite: Li (2.1549, 4.7583, 3.9773) [0.7500, 0.8975, 0.3943]\n",
      "PeriodicSite: Li (0.7183, 2.1074, 1.0657) [0.2500, 0.3975, 0.1057]\n",
      "PeriodicSite: Li (2.1549, 3.1942, 9.0204) [0.7500, 0.6025, 0.8943]\n",
      "PeriodicSite: Mn (2.1549, 3.2164, 6.3788) [0.7500, 0.6067, 0.6324]\n",
      "PeriodicSite: Mn (0.7183, 2.0853, 3.7074) [0.2500, 0.3933, 0.3676]\n",
      "PeriodicSite: Mn (0.7183, 0.5656, 8.7504) [0.2500, 0.1067, 0.8676]\n",
      "PeriodicSite: Mn (2.1549, 4.7361, 1.3357) [0.7500, 0.8933, 0.1324]\n",
      "PeriodicSite: O (0.7183, 2.4056, 7.4410) [0.2500, 0.4537, 0.7377]\n",
      "PeriodicSite: O (2.1549, 2.8961, 2.6451) [0.7500, 0.5463, 0.2623]\n",
      "PeriodicSite: O (2.1549, 5.0564, 7.6882) [0.7500, 0.9537, 0.7623]\n",
      "PeriodicSite: O (0.7183, 0.2453, 2.3979) [0.2500, 0.0463, 0.2377]\n",
      "PeriodicSite: O (0.7183, 3.9532, 5.2495) [0.2500, 0.7457, 0.5205]\n",
      "PeriodicSite: O (2.1549, 1.3484, 4.8366) [0.7500, 0.2543, 0.4795]\n",
      "PeriodicSite: O (0.7183, 3.9993, 0.2065) [0.2500, 0.7543, 0.0205]\n",
      "PeriodicSite: O (2.1549, 1.3024, 9.8796) [0.7500, 0.2457, 0.9795]}\n"
     ]
    }
   ],
   "source": [
    "# data is list of dictionaries\n",
    "pprint.pprint(data[0])"
   ]
  },
  {
   "cell_type": "markdown",
   "metadata": {},
   "source": [
    "Using some additional MongoDB operators we could refine our query. \n",
    "For example, we could filter out radioactivate elements and trainsition metals in our query using the `'$nin'` operator."
   ]
  },
  {
   "cell_type": "code",
   "execution_count": 4,
   "metadata": {},
   "outputs": [
    {
     "name": "stderr",
     "output_type": "stream",
     "text": [
      "100%|██████████| 1932/1932 [00:12<00:00, 155.63it/s]\n"
     ]
    },
    {
     "name": "stdout",
     "output_type": "stream",
     "text": [
      "1932\n"
     ]
    }
   ],
   "source": [
    "# A list of radioactive elements\n",
    "radioactive_elements=['Tc', 'Pm', 'Po', 'At', 'Rn', 'Fr', 'Ra', 'Ac', 'Th', 'Pa', 'U', 'Np', 'Pu', 'Am', 'Cm', 'Bk', 'Cf', 'Es', 'Fm', 'Md', 'No', 'Lr']\n",
    "\n",
    "# A list of transition metal elements excluding Scandium (Sc), Yttrium (Y), Zirconium (Zr) and Niobium (Nb)\n",
    "transition_metals = ['Ti', 'V', 'Cr', 'Mn', 'Fe', 'Co', 'Ni', 'Cu', 'Zn', 'Mo', 'Tc', 'Ru', 'Rh', 'Pd', 'Ag', 'Cd', 'La', 'Hf', 'Ta', 'W', 'Re', 'Os', 'Ir', 'Pt', 'Au', 'Hg', 'Ac']\n",
    "\n",
    "# Merge the lists\n",
    "not_wanted = radioactive_elements + transition_metals\n",
    "\n",
    "# Define the query criteria\n",
    "criteria = {'elements': {'$nin':not_wanted,'$all':['Li'] }, 'band_gap':{'$gte':1}}\n",
    "\n",
    "# Define the properties we are interested in\n",
    "properties= ['material_id', 'pretty_formula', 'structure' ]\n",
    "\n",
    "# Query the MP\n",
    "data = mpr.query(criteria=criteria, properties=properties)\n",
    "\n",
    "print(len(data))"
   ]
  },
  {
   "cell_type": "markdown",
   "metadata": {},
   "source": [
    "From the above query, we can see that using the MongoDB query operators can enable intelligent querying of the MP, in very few lines of code."
   ]
  }
 ],
 "metadata": {
  "kernelspec": {
   "display_name": "Python 3.8.13 ('atomate2_env')",
   "language": "python",
   "name": "python3"
  },
  "language_info": {
   "codemirror_mode": {
    "name": "ipython",
    "version": 3
   },
   "file_extension": ".py",
   "mimetype": "text/x-python",
   "name": "python",
   "nbconvert_exporter": "python",
   "pygments_lexer": "ipython3",
   "version": "3.8.13"
  },
  "orig_nbformat": 4,
  "vscode": {
   "interpreter": {
    "hash": "51a9790b1e1fb99c47e29a52948385f9f109e985a330917619522d69eb0f6192"
   }
  }
 },
 "nbformat": 4,
 "nbformat_minor": 2
}
