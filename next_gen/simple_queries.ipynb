{
 "cells": [
  {
   "cell_type": "markdown",
   "metadata": {},
   "source": [
    "# Accessing data from the Materials Project (next-gen)\n",
    "\n",
    "You will need to get your API key from the Materials Project site (https://next-gen.materialsproject.org/api).\n",
    "\n",
    "Do note that the API key from the next-gen site is different from the legacy site."
   ]
  },
  {
   "cell_type": "code",
   "execution_count": 1,
   "metadata": {},
   "outputs": [
    {
     "name": "stderr",
     "output_type": "stream",
     "text": [
      "/home/aonwu/anaconda3/envs/m3gnet/lib/python3.9/site-packages/pymatgen/analysis/phase_diagram.py:26: TqdmExperimentalWarning: Using `tqdm.autonotebook.tqdm` in notebook mode. Use `tqdm.tqdm` instead to force console mode (e.g. in jupyter console)\n",
      "  from tqdm.autonotebook import tqdm\n"
     ]
    }
   ],
   "source": [
    "\n",
    "from mp_api.client import MPRester\n",
    "from tqdm.notebook import tqdm\n",
    "import pandas as pd\n"
   ]
  },
  {
   "cell_type": "markdown",
   "metadata": {},
   "source": [
    "## Getting structures\n",
    "\n",
    "Let's say we want to find all the structures which contained Lithium and had a band gap higher than 1 eV. We can directly query the MP.\n",
    "To query for a particular element, we use the `elements` parameter. To query for a particular band gap value we use the `band_gap` parameter. The criteria passed to `MPRester` is as follows:\n",
    "```\n",
    "elements =['Li'] # We pass a list of elements we want to the elements parameter\n",
    "\n",
    "band_gap = (1,None) # We pass a tuple of the range of values to the band_gap parameter. (1,None) indicates band_gap values greater than 1.\n",
    "```\n",
    "\n",
    "\n",
    "For the parameters that can be used in a Materials Project query, see the documentation (https://api.materialsproject.org/docs#/).\n",
    "Do note that some parameters and fields are specific to a particular endpoint.\n",
    "\n",
    "For very simple queries, we will primarily be using the `Summary` endpoint.\n",
    "\n",
    "`mpr.summary.search` enables us to use the API to search the summary endpoint.\n"
   ]
  },
  {
   "cell_type": "code",
   "execution_count": 2,
   "metadata": {},
   "outputs": [
    {
     "data": {
      "application/vnd.jupyter.widget-view+json": {
       "model_id": "4031c6f14c2d4cee9eb59936796827b9",
       "version_major": 2,
       "version_minor": 0
      },
      "text/plain": [
       "Retrieving SummaryDoc documents:   0%|          | 0/9340 [00:00<?, ?it/s]"
      ]
     },
     "metadata": {},
     "output_type": "display_data"
    },
    {
     "name": "stdout",
     "output_type": "stream",
     "text": [
      "9340\n"
     ]
    }
   ],
   "source": [
    "# Query the Materials project\n",
    "\n",
    "with MPRester('<API_KEY>') as mpr:\n",
    "    docs = mpr.summary.search(elements=['Li'],\n",
    "                                        band_gap=(1,None),\n",
    "                                        fields=['material_id','formula_pretty', 'structure'])\n",
    "\n",
    "print(len(docs))\n",
    "\n"
   ]
  },
  {
   "cell_type": "code",
   "execution_count": 3,
   "metadata": {},
   "outputs": [
    {
     "data": {
      "text/html": [
       "<div>\n",
       "<style scoped>\n",
       "    .dataframe tbody tr th:only-of-type {\n",
       "        vertical-align: middle;\n",
       "    }\n",
       "\n",
       "    .dataframe tbody tr th {\n",
       "        vertical-align: top;\n",
       "    }\n",
       "\n",
       "    .dataframe thead th {\n",
       "        text-align: right;\n",
       "    }\n",
       "</style>\n",
       "<table border=\"1\" class=\"dataframe\">\n",
       "  <thead>\n",
       "    <tr style=\"text-align: right;\">\n",
       "      <th></th>\n",
       "      <th>material_id</th>\n",
       "      <th>formula_pretty</th>\n",
       "      <th>structure</th>\n",
       "    </tr>\n",
       "  </thead>\n",
       "  <tbody>\n",
       "    <tr>\n",
       "      <th>0</th>\n",
       "      <td>mp-673134</td>\n",
       "      <td>LiSn2P3O10</td>\n",
       "      <td>[[0. 0. 0.] Li, [4.6093585 0.        0.       ...</td>\n",
       "    </tr>\n",
       "    <tr>\n",
       "      <th>1</th>\n",
       "      <td>mp-1235267</td>\n",
       "      <td>LiTb4Al2(FeO6)2</td>\n",
       "      <td>[[4.29659037 2.37719186 2.94895387] Li, [2.246...</td>\n",
       "    </tr>\n",
       "    <tr>\n",
       "      <th>2</th>\n",
       "      <td>mp-39387</td>\n",
       "      <td>SrLiTa2O6F</td>\n",
       "      <td>[[3.710337 0.       0.      ] Sr, [0.       0....</td>\n",
       "    </tr>\n",
       "    <tr>\n",
       "      <th>3</th>\n",
       "      <td>mp-768193</td>\n",
       "      <td>Li2SmPCO7</td>\n",
       "      <td>[[3.57777451 4.35438574 7.43743083] Li, [6.739...</td>\n",
       "    </tr>\n",
       "    <tr>\n",
       "      <th>4</th>\n",
       "      <td>mp-1222529</td>\n",
       "      <td>Li4GeS4</td>\n",
       "      <td>[[1.17737752 1.95141574 8.12633907] Li, [1.918...</td>\n",
       "    </tr>\n",
       "  </tbody>\n",
       "</table>\n",
       "</div>"
      ],
      "text/plain": [
       "  material_id   formula_pretty  \\\n",
       "0   mp-673134       LiSn2P3O10   \n",
       "1  mp-1235267  LiTb4Al2(FeO6)2   \n",
       "2    mp-39387       SrLiTa2O6F   \n",
       "3   mp-768193        Li2SmPCO7   \n",
       "4  mp-1222529          Li4GeS4   \n",
       "\n",
       "                                           structure  \n",
       "0  [[0. 0. 0.] Li, [4.6093585 0.        0.       ...  \n",
       "1  [[4.29659037 2.37719186 2.94895387] Li, [2.246...  \n",
       "2  [[3.710337 0.       0.      ] Sr, [0.       0....  \n",
       "3  [[3.57777451 4.35438574 7.43743083] Li, [6.739...  \n",
       "4  [[1.17737752 1.95141574 8.12633907] Li, [1.918...  "
      ]
     },
     "execution_count": 3,
     "metadata": {},
     "output_type": "execute_result"
    }
   ],
   "source": [
    "# We can convert the query data to a list of dictionaries and store them as a dataframe\n",
    "\n",
    "query_dict = [{'material_id':doc.material_id, 'formula_pretty':doc.formula_pretty, 'structure':doc.structure} for doc in docs]\n",
    "\n",
    "df=pd.DataFrame(query_dict)\n",
    "df.head()"
   ]
  },
  {
   "cell_type": "markdown",
   "metadata": {},
   "source": [
    "We could refine our query by using another parameter\n",
    "For example, we could filter out radioactivate elements and trainsition metals in our query using the `exclude_elements` parameter."
   ]
  },
  {
   "cell_type": "code",
   "execution_count": 4,
   "metadata": {},
   "outputs": [
    {
     "data": {
      "application/vnd.jupyter.widget-view+json": {
       "model_id": "b5f0d0a5662a4407b9db628f05d9c890",
       "version_major": 2,
       "version_minor": 0
      },
      "text/plain": [
       "Retrieving SummaryDoc documents:   0%|          | 0/2134 [00:00<?, ?it/s]"
      ]
     },
     "metadata": {},
     "output_type": "display_data"
    },
    {
     "name": "stdout",
     "output_type": "stream",
     "text": [
      "2134\n"
     ]
    },
    {
     "data": {
      "text/html": [
       "<div>\n",
       "<style scoped>\n",
       "    .dataframe tbody tr th:only-of-type {\n",
       "        vertical-align: middle;\n",
       "    }\n",
       "\n",
       "    .dataframe tbody tr th {\n",
       "        vertical-align: top;\n",
       "    }\n",
       "\n",
       "    .dataframe thead th {\n",
       "        text-align: right;\n",
       "    }\n",
       "</style>\n",
       "<table border=\"1\" class=\"dataframe\">\n",
       "  <thead>\n",
       "    <tr style=\"text-align: right;\">\n",
       "      <th></th>\n",
       "      <th>material_id</th>\n",
       "      <th>formula_pretty</th>\n",
       "      <th>structure</th>\n",
       "    </tr>\n",
       "  </thead>\n",
       "  <tbody>\n",
       "    <tr>\n",
       "      <th>0</th>\n",
       "      <td>mp-673134</td>\n",
       "      <td>LiSn2P3O10</td>\n",
       "      <td>[[0. 0. 0.] Li, [4.6093585 0.        0.       ...</td>\n",
       "    </tr>\n",
       "    <tr>\n",
       "      <th>1</th>\n",
       "      <td>mp-768193</td>\n",
       "      <td>Li2SmPCO7</td>\n",
       "      <td>[[3.57777451 4.35438574 7.43743083] Li, [6.739...</td>\n",
       "    </tr>\n",
       "    <tr>\n",
       "      <th>2</th>\n",
       "      <td>mp-1222529</td>\n",
       "      <td>Li4GeS4</td>\n",
       "      <td>[[1.17737752 1.95141574 8.12633907] Li, [1.918...</td>\n",
       "    </tr>\n",
       "    <tr>\n",
       "      <th>3</th>\n",
       "      <td>mp-604486</td>\n",
       "      <td>LiB3H18N5</td>\n",
       "      <td>[[3.04930518 4.51667255 8.65126328] Li, [9.086...</td>\n",
       "    </tr>\n",
       "    <tr>\n",
       "      <th>4</th>\n",
       "      <td>mp-1192133</td>\n",
       "      <td>LiBH4</td>\n",
       "      <td>[[3.30176025 5.36599456 7.37235749] Li, [3.301...</td>\n",
       "    </tr>\n",
       "  </tbody>\n",
       "</table>\n",
       "</div>"
      ],
      "text/plain": [
       "  material_id formula_pretty  \\\n",
       "0   mp-673134     LiSn2P3O10   \n",
       "1   mp-768193      Li2SmPCO7   \n",
       "2  mp-1222529        Li4GeS4   \n",
       "3   mp-604486      LiB3H18N5   \n",
       "4  mp-1192133          LiBH4   \n",
       "\n",
       "                                           structure  \n",
       "0  [[0. 0. 0.] Li, [4.6093585 0.        0.       ...  \n",
       "1  [[3.57777451 4.35438574 7.43743083] Li, [6.739...  \n",
       "2  [[1.17737752 1.95141574 8.12633907] Li, [1.918...  \n",
       "3  [[3.04930518 4.51667255 8.65126328] Li, [9.086...  \n",
       "4  [[3.30176025 5.36599456 7.37235749] Li, [3.301...  "
      ]
     },
     "execution_count": 4,
     "metadata": {},
     "output_type": "execute_result"
    }
   ],
   "source": [
    "# A list of radioactive elements\n",
    "radioactive_elements=['Tc', 'Pm', 'Po', 'At', 'Rn', 'Fr', 'Ra', 'Ac', 'Th', 'Pa', 'U', 'Np', 'Pu', 'Am', 'Cm', 'Bk', 'Cf', 'Es', 'Fm', 'Md', 'No', 'Lr']\n",
    "\n",
    "# A list of transition metal elements excluding Scandium (Sc), Yttrium (Y), Zirconium (Zr) and Niobium (Nb)\n",
    "transition_metals = ['Ti', 'V', 'Cr', 'Mn', 'Fe', 'Co', 'Ni', 'Cu', 'Zn', 'Mo', 'Tc', 'Ru', 'Rh', 'Pd', 'Ag', 'Cd', 'La', 'Hf', 'Ta', 'W', 'Re', 'Os', 'Ir', 'Pt', 'Au', 'Hg', 'Ac']\n",
    "\n",
    "# Merge the lists\n",
    "not_wanted = radioactive_elements + transition_metals\n",
    "\n",
    "# Query the Materials project \n",
    "\n",
    "with MPRester('<API_KEY>') as mpr:\n",
    "    docs = mpr.summary.search(elements=['Li'],\n",
    "                                exclude_elements=not_wanted,\n",
    "                                    band_gap=(1,None),\n",
    "                                    fields=['material_id','formula_pretty', 'structure'])\n",
    "\n",
    "print(len(docs))\n",
    "\n",
    "\n",
    "query_dict = [{'material_id':doc.material_id, 'formula_pretty':doc.formula_pretty, 'structure':doc.structure} for doc in docs]\n",
    "\n",
    "df=pd.DataFrame(query_dict)\n",
    "df.head()"
   ]
  },
  {
   "cell_type": "markdown",
   "metadata": {},
   "source": [
    "## Experimental materials\n",
    "\n",
    "Using the API, we can also directly query for theoretical materials. The parameter `theoretical` is used to flag whether a material is theoretical.\n"
   ]
  },
  {
   "cell_type": "markdown",
   "metadata": {},
   "source": [
    "### How many experimental materials are in Materials Project?\n",
    "\n",
    "We can query the Materials Project for the material ids of all the materials which are not theoretical."
   ]
  },
  {
   "cell_type": "code",
   "execution_count": 5,
   "metadata": {},
   "outputs": [
    {
     "data": {
      "application/vnd.jupyter.widget-view+json": {
       "model_id": "b788fc9e2c034897a7d232e7b478c68a",
       "version_major": 2,
       "version_minor": 0
      },
      "text/plain": [
       "Retrieving SummaryDoc documents:   0%|          | 0/49794 [00:00<?, ?it/s]"
      ]
     },
     "metadata": {},
     "output_type": "display_data"
    },
    {
     "name": "stdout",
     "output_type": "stream",
     "text": [
      "In the Materials Project there are 49794 experimental materials.\n"
     ]
    }
   ],
   "source": [
    "#\n",
    "with MPRester('<API_KEY>') as mpr:\n",
    "    docs = mpr.summary.search(theoretical=False, fields=['material_id'])\n",
    "\n",
    "print(f'In the Materials Project there are {len(docs)} experimental materials.')"
   ]
  },
  {
   "cell_type": "markdown",
   "metadata": {},
   "source": [
    "### How many experimental Lithium materials with a band gap >1eV, and including neither radioactive elements nor transition metals (except for Zr, Y, Sc, Nb)?"
   ]
  },
  {
   "cell_type": "code",
   "execution_count": 6,
   "metadata": {},
   "outputs": [
    {
     "data": {
      "application/vnd.jupyter.widget-view+json": {
       "model_id": "41c89de849f644bc889f3e442ac47f98",
       "version_major": 2,
       "version_minor": 0
      },
      "text/plain": [
       "Retrieving SummaryDoc documents:   0%|          | 0/837 [00:00<?, ?it/s]"
      ]
     },
     "metadata": {},
     "output_type": "display_data"
    },
    {
     "name": "stdout",
     "output_type": "stream",
     "text": [
      "837\n"
     ]
    },
    {
     "data": {
      "text/html": [
       "<div>\n",
       "<style scoped>\n",
       "    .dataframe tbody tr th:only-of-type {\n",
       "        vertical-align: middle;\n",
       "    }\n",
       "\n",
       "    .dataframe tbody tr th {\n",
       "        vertical-align: top;\n",
       "    }\n",
       "\n",
       "    .dataframe thead th {\n",
       "        text-align: right;\n",
       "    }\n",
       "</style>\n",
       "<table border=\"1\" class=\"dataframe\">\n",
       "  <thead>\n",
       "    <tr style=\"text-align: right;\">\n",
       "      <th></th>\n",
       "      <th>material_id</th>\n",
       "      <th>formula_pretty</th>\n",
       "      <th>structure</th>\n",
       "    </tr>\n",
       "  </thead>\n",
       "  <tbody>\n",
       "    <tr>\n",
       "      <th>0</th>\n",
       "      <td>mp-604486</td>\n",
       "      <td>LiB3H18N5</td>\n",
       "      <td>[[3.04930518 4.51667255 8.65126328] Li, [9.086...</td>\n",
       "    </tr>\n",
       "    <tr>\n",
       "      <th>1</th>\n",
       "      <td>mp-698470</td>\n",
       "      <td>LiAlH16(CN)4</td>\n",
       "      <td>[[-0.14350121  4.83921761  4.00122644] Li, [ 7...</td>\n",
       "    </tr>\n",
       "    <tr>\n",
       "      <th>2</th>\n",
       "      <td>mp-1194702</td>\n",
       "      <td>LiB(H3N)3</td>\n",
       "      <td>[[8.40812251 0.94939753 1.8015188 ] Li, [ 3.56...</td>\n",
       "    </tr>\n",
       "    <tr>\n",
       "      <th>3</th>\n",
       "      <td>mp-1180600</td>\n",
       "      <td>LiMg(AlH4)3</td>\n",
       "      <td>[[ 0.90344597  0.25675915 12.20769883] Li, [6....</td>\n",
       "    </tr>\n",
       "    <tr>\n",
       "      <th>4</th>\n",
       "      <td>mp-1020627</td>\n",
       "      <td>SrLiAl3N4</td>\n",
       "      <td>[[9.04414258 7.03410948 8.48250517] Sr, [0.486...</td>\n",
       "    </tr>\n",
       "  </tbody>\n",
       "</table>\n",
       "</div>"
      ],
      "text/plain": [
       "  material_id formula_pretty  \\\n",
       "0   mp-604486      LiB3H18N5   \n",
       "1   mp-698470   LiAlH16(CN)4   \n",
       "2  mp-1194702      LiB(H3N)3   \n",
       "3  mp-1180600    LiMg(AlH4)3   \n",
       "4  mp-1020627      SrLiAl3N4   \n",
       "\n",
       "                                           structure  \n",
       "0  [[3.04930518 4.51667255 8.65126328] Li, [9.086...  \n",
       "1  [[-0.14350121  4.83921761  4.00122644] Li, [ 7...  \n",
       "2  [[8.40812251 0.94939753 1.8015188 ] Li, [ 3.56...  \n",
       "3  [[ 0.90344597  0.25675915 12.20769883] Li, [6....  \n",
       "4  [[9.04414258 7.03410948 8.48250517] Sr, [0.486...  "
      ]
     },
     "execution_count": 6,
     "metadata": {},
     "output_type": "execute_result"
    }
   ],
   "source": [
    "with MPRester('<API_KEY>') as mpr:\n",
    "    docs = mpr.summary.search(elements=['Li'],\n",
    "                                exclude_elements=not_wanted,\n",
    "                                    band_gap=(1,None),\n",
    "                                    theoretical=False,\n",
    "                                    fields=['material_id','formula_pretty', 'structure'])\n",
    "\n",
    "print(len(docs))\n",
    "\n",
    "\n",
    "query_dict = [{'material_id':doc.material_id, 'formula_pretty':doc.formula_pretty, 'structure':doc.structure} for doc in docs]\n",
    "\n",
    "df=pd.DataFrame(query_dict)\n",
    "df.head()"
   ]
  }
 ],
 "metadata": {
  "kernelspec": {
   "display_name": "Python 3.9.13 ('m3gnet')",
   "language": "python",
   "name": "python3"
  },
  "language_info": {
   "codemirror_mode": {
    "name": "ipython",
    "version": 3
   },
   "file_extension": ".py",
   "mimetype": "text/x-python",
   "name": "python",
   "nbconvert_exporter": "python",
   "pygments_lexer": "ipython3",
   "version": "3.9.13"
  },
  "orig_nbformat": 4,
  "vscode": {
   "interpreter": {
    "hash": "b5ca2d0bdc40ebf50bad36ce0d7837c5bd264d80f88289887307a64c0350ac3c"
   }
  }
 },
 "nbformat": 4,
 "nbformat_minor": 2
}
