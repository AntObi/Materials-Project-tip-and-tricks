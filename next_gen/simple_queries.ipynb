{
 "cells": [
  {
   "cell_type": "markdown",
   "metadata": {},
   "source": [
    "# Accessing data from the Materials Project (next-gen)\n",
    "\n",
    "[API documentation](https://api.materialsproject.org/docs#/Summary/search_summary__get)"
   ]
  },
  {
   "cell_type": "code",
   "execution_count": 1,
   "metadata": {},
   "outputs": [
    {
     "name": "stderr",
     "output_type": "stream",
     "text": [
      "/Users/aonwu/.conda/envs/m3gnet/lib/python3.9/site-packages/pymatgen/analysis/phase_diagram.py:26: TqdmWarning: IProgress not found. Please update jupyter and ipywidgets. See https://ipywidgets.readthedocs.io/en/stable/user_install.html\n",
      "  from tqdm.autonotebook import tqdm\n"
     ]
    }
   ],
   "source": [
    "import pprint\n",
    "\n",
    "from mp_api.client import MPRester\n"
   ]
  },
  {
   "cell_type": "markdown",
   "metadata": {},
   "source": [
    "## Getting structures\n",
    "\n",
    "Let's say we want to find all the structures which contained Lithium and had a band gap higher than 1 eV. We can directly query the MP following the structure of the API.\n",
    "To query for a particular element, we use the `elements` parameter. To query for a particular band gap value we use the `band_gap` parameter. The criteria passed to `MPRester` is as follows:\n",
    "\n",
    "For the parameters that can be used in a Materials Project query, see the documentation (https://github.com/materialsproject/mapidoc/tree/master/materials)\n",
    "\n",
    "For a full description of the MongoDB query operators, please refer to the MongoDB manual (https://www.mongodb.com/docs/manual/reference/operator/query/). \n",
    "Being able to use these operators will enhance your querying."
   ]
  },
  {
   "cell_type": "code",
   "execution_count": 2,
   "metadata": {},
   "outputs": [
    {
     "name": "stderr",
     "output_type": "stream",
     "text": [
      "/Users/aonwu/.conda/envs/m3gnet/lib/python3.9/site-packages/mp_api/client/client.py:139: builtins.UserWarning: Problem loading MPContribs client: [<twisted.python.failure.Failure OpenSSL.SSL.Error: [('STORE routines', '', 'unregistered scheme'), ('system library', '', ''), ('STORE routines', '', 'unregistered scheme'), ('system library', '', ''), ('STORE routines', '', 'unregistered scheme'), ('system library', '', ''), ('SSL routines', '', 'certificate verify failed')]>]\n",
      "Retrieving SummaryDoc documents: 100%|██████████| 9340/9340 [00:26<00:00, 351.75it/s]"
     ]
    },
    {
     "name": "stdout",
     "output_type": "stream",
     "text": [
      "9340\n"
     ]
    },
    {
     "name": "stderr",
     "output_type": "stream",
     "text": [
      "\n"
     ]
    }
   ],
   "source": [
    "# This defines the query to the materials project\n",
    "criteria = {'elements': {'$all':['Li']}, 'band_gap':{'$gte':1}}\n",
    "\n",
    "# This defines the properties that we are interested in\n",
    "fields= ['material_id', 'formula_pretty', 'structure' ]\n",
    "\n",
    "# Performing the query\n",
    "\n",
    "with MPRester('4Ib91crOo7Uwxc0J021oHawyASCKnIVr') as mpr:\n",
    "    docs = mpr.summary.search(elements=['Li'], band_gap=(1, None),\n",
    "     fields =fields)\n",
    "\n",
    "print(len(docs))"
   ]
  },
  {
   "cell_type": "code",
   "execution_count": 3,
   "metadata": {},
   "outputs": [
    {
     "name": "stdout",
     "output_type": "stream",
     "text": [
      "\u001b[4m\u001b[1mMPDataDoc<SummaryDoc>\u001b[0;0m\u001b[0;0m(\n",
      "\u001b[1mformula_pretty\u001b[0;0m='LiSn2P3O10',\n",
      "\u001b[1mmaterial_id\u001b[0;0m=MPID(mp-673134),\n",
      "\u001b[1mstructure\u001b[0;0m=Structure Summary\n",
      "Lattice\n",
      "    abc : 9.218717 5.079296 10.051037787499608\n",
      " angles : 85.36606560175449 90.0 90.0\n",
      " volume : 469.0973353956243\n",
      "      A : 9.218717 0.0 0.0\n",
      "      B : 0.0 5.079296 0.0\n",
      "      C : 0.0 0.812016 10.018183\n",
      "    pbc : True True True\n",
      "PeriodicSite: Li (0.0000, 0.0000, 0.0000) [0.0000, 0.0000, 0.0000]\n",
      "PeriodicSite: Li (4.6094, 0.0000, 0.0000) [0.5000, 0.0000, 0.0000]\n",
      "PeriodicSite: Sn (4.0760, 0.6861, 6.7484) [0.4421, 0.0274, 0.6736]\n",
      "PeriodicSite: Sn (5.1428, 5.2052, 3.2698) [0.5579, 0.9726, 0.3264]\n",
      "PeriodicSite: Sn (8.6853, 5.2052, 3.2698) [0.9421, 0.9726, 0.3264]\n",
      "PeriodicSite: Sn (0.5334, 0.6861, 6.7484) [0.0579, 0.0274, 0.6736]\n",
      "PeriodicSite: P (6.9140, 4.2761, 8.3848) [0.7500, 0.7081, 0.8370]\n",
      "PeriodicSite: P (6.9140, 2.6995, 5.6883) [0.7500, 0.4407, 0.5678]\n",
      "PeriodicSite: P (2.3047, 3.1918, 4.3299) [0.2500, 0.5593, 0.4322]\n",
      "PeriodicSite: P (6.9140, 3.0585, 1.2391) [0.7500, 0.5824, 0.1237]\n",
      "PeriodicSite: P (2.3047, 1.6152, 1.6334) [0.2500, 0.2919, 0.1630]\n",
      "PeriodicSite: P (2.3047, 2.8328, 8.7791) [0.2500, 0.4176, 0.8763]\n",
      "PeriodicSite: O (1.0237, 4.0247, 4.4494) [0.1110, 0.7214, 0.4441]\n",
      "PeriodicSite: O (1.0225, 1.9691, 8.6367) [0.1109, 0.2498, 0.8621]\n",
      "PeriodicSite: O (3.5856, 4.0247, 4.4494) [0.3890, 0.7214, 0.4441]\n",
      "PeriodicSite: O (2.3047, 2.5426, 0.3268) [0.2500, 0.4954, 0.0326]\n",
      "PeriodicSite: O (6.9140, 3.3487, 9.6914) [0.7500, 0.5046, 0.9674]\n",
      "PeriodicSite: O (5.6331, 1.8666, 5.5687) [0.6110, 0.2786, 0.5559]\n",
      "PeriodicSite: O (8.1950, 1.8666, 5.5687) [0.8890, 0.2786, 0.5559]\n",
      "PeriodicSite: O (6.9140, 1.7872, 2.0441) [0.7500, 0.3192, 0.2040]\n",
      "PeriodicSite: O (3.5873, 0.7943, 1.6404) [0.3891, 0.1302, 0.1637]\n",
      "PeriodicSite: O (2.3047, 2.7351, 2.7293) [0.2500, 0.4949, 0.2724]\n",
      "PeriodicSite: O (3.5869, 1.9691, 8.6367) [0.3891, 0.2498, 0.8621]\n",
      "PeriodicSite: O (8.1966, 5.0970, 8.3778) [0.8891, 0.8698, 0.8363]\n",
      "PeriodicSite: O (6.9140, 3.9550, 4.8328) [0.7500, 0.7015, 0.4824]\n",
      "PeriodicSite: O (2.3047, 1.9363, 5.1854) [0.2500, 0.2985, 0.5176]\n",
      "PeriodicSite: O (5.6318, 3.9222, 1.3815) [0.6109, 0.7502, 0.1379]\n",
      "PeriodicSite: O (2.3047, 4.1041, 7.9741) [0.2500, 0.6807, 0.7960]\n",
      "PeriodicSite: O (5.6315, 5.0970, 8.3778) [0.6109, 0.8698, 0.8363]\n",
      "PeriodicSite: O (1.0221, 0.7943, 1.6404) [0.1109, 0.1302, 0.1637]\n",
      "PeriodicSite: O (6.9140, 3.1562, 7.2889) [0.7500, 0.5051, 0.7276]\n",
      "PeriodicSite: O (8.1962, 3.9222, 1.3815) [0.8891, 0.7502, 0.1379],\n",
      "\u001b[1mfields_not_requested\u001b[0;0m=['builder_meta', 'nsites', 'elements', 'nelements', 'composition', 'composition_reduced', 'formula_anonymous', 'chemsys', 'volume', 'density', 'density_atomic', 'symmetry', 'property_name', 'deprecated', 'deprecation_reasons', 'last_updated', 'origins', 'warnings', 'task_ids', 'uncorrected_energy_per_atom', 'energy_per_atom', 'formation_energy_per_atom', 'energy_above_hull', 'is_stable', 'equilibrium_reaction_energy_per_atom', 'decomposes_to', 'xas', 'grain_boundaries', 'band_gap', 'cbm', 'vbm', 'efermi', 'is_gap_direct', 'is_metal', 'es_source_calc_id', 'bandstructure', 'dos', 'dos_energy_up', 'dos_energy_down', 'is_magnetic', 'ordering', 'total_magnetization', 'total_magnetization_normalized_vol', 'total_magnetization_normalized_formula_units', 'num_magnetic_sites', 'num_unique_magnetic_sites', 'types_of_magnetic_species', 'k_voigt', 'k_reuss', 'k_vrh', 'g_voigt', 'g_reuss', 'g_vrh', 'universal_anisotropy', 'homogeneous_poisson', 'e_total', 'e_ionic', 'e_electronic', 'n', 'e_ij_max', 'weighted_surface_energy_EV_PER_ANG2', 'weighted_surface_energy', 'weighted_work_function', 'surface_anisotropy', 'shape_factor', 'has_reconstructed', 'possible_species', 'has_props', 'theoretical']\n",
      ")\n"
     ]
    }
   ],
   "source": [
    "# data is list of dictionaries\n",
    "pprint.pprint(docs[0])"
   ]
  },
  {
   "cell_type": "markdown",
   "metadata": {},
   "source": [
    "Using some additional MongoDB operators we could refine our query. \n",
    "For example, we could filter out radioactivate elements and trainsition metals in our query using the `'$nin'` operator."
   ]
  },
  {
   "cell_type": "code",
   "execution_count": 4,
   "metadata": {},
   "outputs": [
    {
     "name": "stderr",
     "output_type": "stream",
     "text": [
      "/Users/aonwu/.conda/envs/m3gnet/lib/python3.9/site-packages/mp_api/client/client.py:139: builtins.UserWarning: Problem loading MPContribs client: [<twisted.python.failure.Failure OpenSSL.SSL.Error: [('STORE routines', '', 'unregistered scheme'), ('system library', '', ''), ('STORE routines', '', 'unregistered scheme'), ('system library', '', ''), ('STORE routines', '', 'unregistered scheme'), ('system library', '', ''), ('SSL routines', '', 'certificate verify failed')]>]\n",
      "Retrieving SummaryDoc documents: 100%|██████████| 2134/2134 [00:04<00:00, 481.42it/s]"
     ]
    },
    {
     "name": "stdout",
     "output_type": "stream",
     "text": [
      "2134\n"
     ]
    },
    {
     "name": "stderr",
     "output_type": "stream",
     "text": [
      "\n"
     ]
    }
   ],
   "source": [
    "# A list of radioactive elements\n",
    "radioactive_elements=['Tc', 'Pm', 'Po', 'At', 'Rn', 'Fr', 'Ra', 'Ac', 'Th', 'Pa', 'U', 'Np', 'Pu', 'Am', 'Cm', 'Bk', 'Cf', 'Es', 'Fm', 'Md', 'No', 'Lr']\n",
    "\n",
    "# A list of transition metal elements excluding Scandium (Sc), Yttrium (Y), Zirconium (Zr) and Niobium (Nb)\n",
    "transition_metals = ['Ti', 'V', 'Cr', 'Mn', 'Fe', 'Co', 'Ni', 'Cu', 'Zn', 'Mo', 'Tc', 'Ru', 'Rh', 'Pd', 'Ag', 'Cd', 'La', 'Hf', 'Ta', 'W', 'Re', 'Os', 'Ir', 'Pt', 'Au', 'Hg', 'Ac']\n",
    "\n",
    "# Merge the lists\n",
    "not_wanted = radioactive_elements + transition_metals\n",
    "\n",
    "\n",
    "# Define the properties we are interested in\n",
    "fields= ['material_id', 'pretty_formula', 'structure' ]\n",
    "\n",
    "# Query the MP\n",
    "with MPRester('4Ib91crOo7Uwxc0J021oHawyASCKnIVr') as mpr:\n",
    "    docs = mpr.summary.search(elements=['Li'],\n",
    "    exclude_elements=not_wanted,\n",
    "    band_gap=(1,None),\n",
    "    fields = fields)\n",
    "print(len(docs))"
   ]
  }
 ],
 "metadata": {
  "kernelspec": {
   "display_name": "Python 3.9.13 ('m3gnet')",
   "language": "python",
   "name": "python3"
  },
  "language_info": {
   "codemirror_mode": {
    "name": "ipython",
    "version": 3
   },
   "file_extension": ".py",
   "mimetype": "text/x-python",
   "name": "python",
   "nbconvert_exporter": "python",
   "pygments_lexer": "ipython3",
   "version": "3.9.13"
  },
  "orig_nbformat": 4,
  "vscode": {
   "interpreter": {
    "hash": "12ffb9a1fc55ed07279e7dd77ad285a3497c27b3c474e4f9eb992cd6013b4b31"
   }
  }
 },
 "nbformat": 4,
 "nbformat_minor": 2
}
