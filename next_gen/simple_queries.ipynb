{
  "cells": [
    {
      "cell_type": "markdown",
      "source": [
        "[![Open in Colab](https://colab.research.google.com/assets/colab-badge.svg)](https://colab.research.google.com/github/AntObi/Materials-Project-tip-and-tricks/blob/master/next_gen/simple_queries.ipynb)"
      ],
      "metadata": {
        "id": "VPCT_YvDwdeU"
      }
    },
    {
      "cell_type": "markdown",
      "metadata": {
        "id": "iz1aVfP7wFUo"
      },
      "source": [
        "# Accessing data from the Materials Project (next-gen)\n",
        "\n",
        "You will need to get your API key from the Materials Project site (https://next-gen.materialsproject.org/api).\n",
        "\n",
        "Do note that the API key from the next-gen site is different from the legacy site."
      ]
    },
    {
      "cell_type": "markdown",
      "source": [
        "## Install dependencies"
      ],
      "metadata": {
        "id": "An7CZi13xYdd"
      }
    },
    {
      "cell_type": "code",
      "source": [
        "!pip install pymatgen"
      ],
      "metadata": {
        "id": "vvplwEvyxGOL",
        "outputId": "b464afc6-e0df-4d87-a8e8-ec10e4e4eb5d",
        "colab": {
          "base_uri": "https://localhost:8080/"
        }
      },
      "execution_count": 10,
      "outputs": [
        {
          "output_type": "stream",
          "name": "stdout",
          "text": [
            "Looking in indexes: https://pypi.org/simple, https://us-python.pkg.dev/colab-wheels/public/simple/\n",
            "Requirement already satisfied: pymatgen in /usr/local/lib/python3.8/dist-packages (2023.1.30)\n",
            "Requirement already satisfied: monty>=3.0.2 in /usr/local/lib/python3.8/dist-packages (from pymatgen) (2022.9.9)\n",
            "Requirement already satisfied: pybtex in /usr/local/lib/python3.8/dist-packages (from pymatgen) (0.24.0)\n",
            "Requirement already satisfied: networkx>=2.2 in /usr/local/lib/python3.8/dist-packages (from pymatgen) (3.0)\n",
            "Requirement already satisfied: pandas in /usr/local/lib/python3.8/dist-packages (from pymatgen) (1.3.5)\n",
            "Requirement already satisfied: tqdm in /usr/local/lib/python3.8/dist-packages (from pymatgen) (4.64.1)\n",
            "Requirement already satisfied: spglib>=2.0.2 in /usr/local/lib/python3.8/dist-packages (from pymatgen) (2.0.2)\n",
            "Requirement already satisfied: mp-api>=0.27.3 in /usr/local/lib/python3.8/dist-packages (from pymatgen) (0.30.8)\n",
            "Requirement already satisfied: plotly>=4.5.0 in /usr/local/lib/python3.8/dist-packages (from pymatgen) (5.5.0)\n",
            "Requirement already satisfied: scipy>=1.5.0 in /usr/local/lib/python3.8/dist-packages (from pymatgen) (1.7.3)\n",
            "Requirement already satisfied: tabulate in /usr/local/lib/python3.8/dist-packages (from pymatgen) (0.8.10)\n",
            "Requirement already satisfied: palettable>=3.1.1 in /usr/local/lib/python3.8/dist-packages (from pymatgen) (3.3.0)\n",
            "Requirement already satisfied: uncertainties>=3.1.4 in /usr/local/lib/python3.8/dist-packages (from pymatgen) (3.1.7)\n",
            "Requirement already satisfied: ruamel.yaml>=0.17.0 in /usr/local/lib/python3.8/dist-packages (from pymatgen) (0.17.21)\n",
            "Requirement already satisfied: numpy>=1.20.1 in /usr/local/lib/python3.8/dist-packages (from pymatgen) (1.21.6)\n",
            "Requirement already satisfied: requests in /usr/local/lib/python3.8/dist-packages (from pymatgen) (2.25.1)\n",
            "Requirement already satisfied: matplotlib>=1.5 in /usr/local/lib/python3.8/dist-packages (from pymatgen) (3.2.2)\n",
            "Requirement already satisfied: sympy in /usr/local/lib/python3.8/dist-packages (from pymatgen) (1.7.1)\n",
            "Requirement already satisfied: pyparsing!=2.0.4,!=2.1.2,!=2.1.6,>=2.0.1 in /usr/local/lib/python3.8/dist-packages (from matplotlib>=1.5->pymatgen) (3.0.9)\n",
            "Requirement already satisfied: kiwisolver>=1.0.1 in /usr/local/lib/python3.8/dist-packages (from matplotlib>=1.5->pymatgen) (1.4.4)\n",
            "Requirement already satisfied: cycler>=0.10 in /usr/local/lib/python3.8/dist-packages (from matplotlib>=1.5->pymatgen) (0.11.0)\n",
            "Requirement already satisfied: python-dateutil>=2.1 in /usr/local/lib/python3.8/dist-packages (from matplotlib>=1.5->pymatgen) (2.8.2)\n",
            "Requirement already satisfied: msgpack in /usr/local/lib/python3.8/dist-packages (from mp-api>=0.27.3->pymatgen) (1.0.4)\n",
            "Requirement already satisfied: typing-extensions>=3.7.4.1 in /usr/local/lib/python3.8/dist-packages (from mp-api>=0.27.3->pymatgen) (4.4.0)\n",
            "Requirement already satisfied: emmet-core>=0.39.8 in /usr/local/lib/python3.8/dist-packages (from mp-api>=0.27.3->pymatgen) (0.42.4)\n",
            "Requirement already satisfied: setuptools in /usr/local/lib/python3.8/dist-packages (from mp-api>=0.27.3->pymatgen) (57.4.0)\n",
            "Requirement already satisfied: tenacity>=6.2.0 in /usr/local/lib/python3.8/dist-packages (from plotly>=4.5.0->pymatgen) (8.1.0)\n",
            "Requirement already satisfied: six in /usr/local/lib/python3.8/dist-packages (from plotly>=4.5.0->pymatgen) (1.15.0)\n",
            "Requirement already satisfied: chardet<5,>=3.0.2 in /usr/local/lib/python3.8/dist-packages (from requests->pymatgen) (4.0.0)\n",
            "Requirement already satisfied: certifi>=2017.4.17 in /usr/local/lib/python3.8/dist-packages (from requests->pymatgen) (2022.12.7)\n",
            "Requirement already satisfied: urllib3<1.27,>=1.21.1 in /usr/local/lib/python3.8/dist-packages (from requests->pymatgen) (1.24.3)\n",
            "Requirement already satisfied: idna<3,>=2.5 in /usr/local/lib/python3.8/dist-packages (from requests->pymatgen) (2.10)\n",
            "Requirement already satisfied: ruamel.yaml.clib>=0.2.6 in /usr/local/lib/python3.8/dist-packages (from ruamel.yaml>=0.17.0->pymatgen) (0.2.7)\n",
            "Requirement already satisfied: future in /usr/local/lib/python3.8/dist-packages (from uncertainties>=3.1.4->pymatgen) (0.16.0)\n",
            "Requirement already satisfied: pytz>=2017.3 in /usr/local/lib/python3.8/dist-packages (from pandas->pymatgen) (2022.7)\n",
            "Requirement already satisfied: PyYAML>=3.01 in /usr/local/lib/python3.8/dist-packages (from pybtex->pymatgen) (6.0)\n",
            "Requirement already satisfied: latexcodec>=1.0.4 in /usr/local/lib/python3.8/dist-packages (from pybtex->pymatgen) (2.0.1)\n",
            "Requirement already satisfied: mpmath>=0.19 in /usr/local/lib/python3.8/dist-packages (from sympy->pymatgen) (1.2.1)\n",
            "Requirement already satisfied: pydantic>=1.10.2 in /usr/local/lib/python3.8/dist-packages (from emmet-core>=0.39.8->mp-api>=0.27.3->pymatgen) (1.10.4)\n"
          ]
        }
      ]
    },
    {
      "cell_type": "code",
      "execution_count": 11,
      "metadata": {
        "id": "6aPbHlI-wFUq"
      },
      "outputs": [],
      "source": [
        "\n",
        "from pymatgen.ext.matproj import MPRester\n",
        "from tqdm.notebook import tqdm\n",
        "import pandas as pd\n"
      ]
    },
    {
      "cell_type": "code",
      "source": [
        "#@title Enter your Materials Project API key\n",
        "MP_API_KEY = \"4Ib91crOo7Uwxc0J021oHawyASCKnIVr\" #@param {type:\"string\"} "
      ],
      "metadata": {
        "id": "BQQkFAciyXJN"
      },
      "execution_count": 12,
      "outputs": []
    },
    {
      "cell_type": "code",
      "source": [
        "# To check the possible arguments to the search method for the summary doc, uncomment the lines of code below\n",
        "with MPRester(MP_API_KEY) as mpr:\n",
        "     print(mpr.summary.search.__doc__)"
      ],
      "metadata": {
        "id": "3Sd8iWTZ03L0",
        "outputId": "4d2fb010-62a7-44c8-cf89-6072f0d834bf",
        "colab": {
          "base_uri": "https://localhost:8080/"
        }
      },
      "execution_count": 13,
      "outputs": [
        {
          "output_type": "stream",
          "name": "stdout",
          "text": [
            "\n",
            "        Query core data using a variety of search criteria.\n",
            "\n",
            "        Arguments:\n",
            "            band_gap (Tuple[float,float]): Minimum and maximum band gap in eV to consider.\n",
            "            chemsys (str, List[str]): A chemical system, list of chemical systems\n",
            "                (e.g., Li-Fe-O, Si-*, [Si-O, Li-Fe-P]), or single formula (e.g., Fe2O3, Si*).\n",
            "            crystal_system (CrystalSystem): Crystal system of material.\n",
            "            density (Tuple[float,float]): Minimum and maximum density to consider.\n",
            "            deprecated (bool): Whether the material is tagged as deprecated.\n",
            "            e_electronic (Tuple[float,float]): Minimum and maximum electronic dielectric constant to consider.\n",
            "            e_ionic (Tuple[float,float]): Minimum and maximum ionic dielectric constant to consider.\n",
            "            e_total (Tuple[float,float]): Minimum and maximum total dielectric constant to consider.\n",
            "            efermi (Tuple[float,float]): Minimum and maximum fermi energy in eV to consider.\n",
            "            elastic_anisotropy (Tuple[float,float]): Minimum and maximum value to consider for the elastic anisotropy.\n",
            "            elements (List[str]): A list of elements.\n",
            "            energy_above_hull (Tuple[int,int]): Minimum and maximum energy above the hull in eV/atom to consider.\n",
            "            equilibrium_reaction_energy (Tuple[float,float]): Minimum and maximum equilibrium reaction energy in\n",
            "                eV/atom to consider.\n",
            "            exclude_elements (List(str)): List of elements to exclude.\n",
            "            formation_energy (Tuple[int,int]): Minimum and maximum formation energy in eV/atom to consider.\n",
            "            formula (str, List[str]): A formula including anonymized formula\n",
            "                or wild cards (e.g., Fe2O3, ABO3, Si*). A list of chemical formulas can also be passed\n",
            "                (e.g., [Fe2O3, ABO3]).\n",
            "            g_reuss (Tuple[float,float]): Minimum and maximum value in GPa to consider for the Reuss average\n",
            "                of the shear modulus.\n",
            "            g_voigt (Tuple[float,float]): Minimum and maximum value in GPa to consider for the Voigt average\n",
            "                of the shear modulus.\n",
            "            g_vrh (Tuple[float,float]): Minimum and maximum value in GPa to consider for the Voigt-Reuss-Hill\n",
            "                average of the shear modulus.\n",
            "            has_props: (List[HasProps]): The calculated properties available for the material.\n",
            "            has_reconstructed (bool): Whether the entry has any reconstructed surfaces.\n",
            "            is_gap_direct (bool): Whether the material has a direct band gap.\n",
            "            is_metal (bool): Whether the material is considered a metal.\n",
            "            k_reuss (Tuple[float,float]): Minimum and maximum value in GPa to consider for the Reuss average\n",
            "                of the bulk modulus.\n",
            "            k_voigt (Tuple[float,float]): Minimum and maximum value in GPa to consider for the Voigt average\n",
            "                of the bulk modulus.\n",
            "            k_vrh (Tuple[float,float]): Minimum and maximum value in GPa to consider for the Voigt-Reuss-Hill\n",
            "                average of the bulk modulus.\n",
            "            magnetic_ordering (Ordering): Magnetic ordering of the material.\n",
            "            material_ids (List[MPID]): List of Materials Project IDs to return data for.\n",
            "            n (Tuple[float,float]): Minimum and maximum refractive index to consider.\n",
            "            num_elements (Tuple[int,int]): Minimum and maximum number of elements to consider.\n",
            "            num_sites (Tuple[int,int]): Minimum and maximum number of sites to consider.\n",
            "            num_magnetic_sites (Tuple[int,int]): Minimum and maximum number of magnetic sites to consider.\n",
            "            num_unique_magnetic_sites (Tuple[int,int]): Minimum and maximum number of unique magnetic sites to consider.\n",
            "            piezoelectric_modulus (Tuple[float,float]): Minimum and maximum piezoelectric modulus to consider.\n",
            "            poisson_ratio (Tuple[float,float]): Minimum and maximum value to consider for Poisson's ratio.\n",
            "            possible_species (List(str)): List of element symbols appended with oxidation states. (e.g. Cr2+,O2-)\n",
            "            shape_factor (Tuple[float,float]): Minimum and maximum shape factor values to consider.\n",
            "            spacegroup_number (int): Space group number of material.\n",
            "            spacegroup_symbol (str): Space group symbol of the material in international short symbol notation.\n",
            "            surface_energy_anisotropy (Tuple[float,float]): Minimum and maximum surface energy anisotropy values\n",
            "                to consider.\n",
            "            theoretical: (bool): Whether the material is theoretical.\n",
            "            total_energy (Tuple[int,int]): Minimum and maximum corrected total energy in eV/atom to consider.\n",
            "            total_magnetization (Tuple[float,float]): Minimum and maximum total magnetization values to consider.\n",
            "            total_magnetization_normalized_formula_units (Tuple[float,float]): Minimum and maximum total magnetization\n",
            "                values normalized by formula units to consider.\n",
            "            total_magnetization_normalized_vol (Tuple[float,float]): Minimum and maximum total magnetization values\n",
            "                normalized by volume to consider.\n",
            "            uncorrected_energy (Tuple[int,int]): Minimum and maximum uncorrected total energy in eV/atom to consider.\n",
            "            volume (Tuple[float,float]): Minimum and maximum volume to consider.\n",
            "            weighted_surface_energy (Tuple[float,float]): Minimum and maximum weighted surface energy\n",
            "                in J/m² to consider.\n",
            "            weighted_work_function (Tuple[float,float]): Minimum and maximum weighted work function in eV to consider.\n",
            "            sort_fields (List[str]): Fields used to sort results. Prefixing with '-' will sort in descending order.\n",
            "            num_chunks (int): Maximum number of chunks of data to yield. None will yield all possible.\n",
            "            chunk_size (int): Number of data entries per chunk.\n",
            "            all_fields (bool): Whether to return all fields in the document. Defaults to True.\n",
            "            fields (List[str]): List of fields in SearchDoc to return data for.\n",
            "                Default is material_id if all_fields is False.\n",
            "\n",
            "        Returns:\n",
            "            ([SummaryDoc]) List of SummaryDoc documents\n",
            "        \n"
          ]
        },
        {
          "output_type": "stream",
          "name": "stderr",
          "text": [
            "/usr/local/lib/python3.8/dist-packages/mp_api/client/mprester.py:146: UserWarning: mpcontribs-client not installed. Install the package to query MPContribs data, or construct pourbaix diagrams: 'pip install mpcontribs-client'\n",
            "  warnings.warn(\n"
          ]
        }
      ]
    },
    {
      "cell_type": "markdown",
      "metadata": {
        "id": "p8me4MeywFUr"
      },
      "source": [
        "## Getting structures\n",
        "\n",
        "Let's say we want to find all the structures which contained Lithium and had a band gap higher than 1 eV. We can directly query the MP.\n",
        "To query for a particular element, we use the `elements` parameter. To query for a particular band gap value we use the `band_gap` parameter. The criteria passed to `MPRester` is as follows:\n",
        "```\n",
        "elements =['Li'] # We pass a list of elements we want to the elements parameter\n",
        "\n",
        "band_gap = (1,None) # We pass a tuple of the range of values to the band_gap parameter. (1,None) indicates band_gap values greater than 1.\n",
        "```\n",
        "\n",
        "\n",
        "For the parameters that can be used in a Materials Project query, see the documentation (https://api.materialsproject.org/docs#/).\n",
        "Do note that some parameters and fields are specific to a particular endpoint.\n",
        "\n",
        "For very simple queries, we will primarily be using the `Summary` endpoint.\n",
        "\n",
        "`mpr.summary.search` enables us to use the API to search the summary endpoint.\n"
      ]
    },
    {
      "cell_type": "code",
      "execution_count": null,
      "metadata": {
        "colab": {
          "referenced_widgets": [
            "4031c6f14c2d4cee9eb59936796827b9"
          ]
        },
        "id": "MtDtS7AzwFUs",
        "outputId": "dfa34e91-7ce7-4ca5-89c6-0273a15f2a62"
      },
      "outputs": [
        {
          "data": {
            "application/vnd.jupyter.widget-view+json": {
              "model_id": "4031c6f14c2d4cee9eb59936796827b9",
              "version_major": 2,
              "version_minor": 0
            },
            "text/plain": [
              "Retrieving SummaryDoc documents:   0%|          | 0/9340 [00:00<?, ?it/s]"
            ]
          },
          "metadata": {},
          "output_type": "display_data"
        },
        {
          "name": "stdout",
          "output_type": "stream",
          "text": [
            "9340\n"
          ]
        }
      ],
      "source": [
        "# Query the Materials project\n",
        "\n",
        "with MPRester(MP_API_KEY) as mpr:\n",
        "    docs = mpr.summary.search(elements=['Li'],\n",
        "                                        band_gap=(1,None),\n",
        "                                        fields=['material_id','formula_pretty', 'structure'])\n",
        "\n",
        "print(len(docs))\n",
        "\n"
      ]
    },
    {
      "cell_type": "code",
      "execution_count": null,
      "metadata": {
        "id": "8FShAAcJwFUt",
        "outputId": "a246dbce-e597-4df9-9a46-f6d77eb6a2fa"
      },
      "outputs": [
        {
          "data": {
            "text/html": [
              "<div>\n",
              "<style scoped>\n",
              "    .dataframe tbody tr th:only-of-type {\n",
              "        vertical-align: middle;\n",
              "    }\n",
              "\n",
              "    .dataframe tbody tr th {\n",
              "        vertical-align: top;\n",
              "    }\n",
              "\n",
              "    .dataframe thead th {\n",
              "        text-align: right;\n",
              "    }\n",
              "</style>\n",
              "<table border=\"1\" class=\"dataframe\">\n",
              "  <thead>\n",
              "    <tr style=\"text-align: right;\">\n",
              "      <th></th>\n",
              "      <th>material_id</th>\n",
              "      <th>formula_pretty</th>\n",
              "      <th>structure</th>\n",
              "    </tr>\n",
              "  </thead>\n",
              "  <tbody>\n",
              "    <tr>\n",
              "      <th>0</th>\n",
              "      <td>mp-673134</td>\n",
              "      <td>LiSn2P3O10</td>\n",
              "      <td>[[0. 0. 0.] Li, [4.6093585 0.        0.       ...</td>\n",
              "    </tr>\n",
              "    <tr>\n",
              "      <th>1</th>\n",
              "      <td>mp-1235267</td>\n",
              "      <td>LiTb4Al2(FeO6)2</td>\n",
              "      <td>[[4.29659037 2.37719186 2.94895387] Li, [2.246...</td>\n",
              "    </tr>\n",
              "    <tr>\n",
              "      <th>2</th>\n",
              "      <td>mp-39387</td>\n",
              "      <td>SrLiTa2O6F</td>\n",
              "      <td>[[3.710337 0.       0.      ] Sr, [0.       0....</td>\n",
              "    </tr>\n",
              "    <tr>\n",
              "      <th>3</th>\n",
              "      <td>mp-768193</td>\n",
              "      <td>Li2SmPCO7</td>\n",
              "      <td>[[3.57777451 4.35438574 7.43743083] Li, [6.739...</td>\n",
              "    </tr>\n",
              "    <tr>\n",
              "      <th>4</th>\n",
              "      <td>mp-1222529</td>\n",
              "      <td>Li4GeS4</td>\n",
              "      <td>[[1.17737752 1.95141574 8.12633907] Li, [1.918...</td>\n",
              "    </tr>\n",
              "  </tbody>\n",
              "</table>\n",
              "</div>"
            ],
            "text/plain": [
              "  material_id   formula_pretty  \\\n",
              "0   mp-673134       LiSn2P3O10   \n",
              "1  mp-1235267  LiTb4Al2(FeO6)2   \n",
              "2    mp-39387       SrLiTa2O6F   \n",
              "3   mp-768193        Li2SmPCO7   \n",
              "4  mp-1222529          Li4GeS4   \n",
              "\n",
              "                                           structure  \n",
              "0  [[0. 0. 0.] Li, [4.6093585 0.        0.       ...  \n",
              "1  [[4.29659037 2.37719186 2.94895387] Li, [2.246...  \n",
              "2  [[3.710337 0.       0.      ] Sr, [0.       0....  \n",
              "3  [[3.57777451 4.35438574 7.43743083] Li, [6.739...  \n",
              "4  [[1.17737752 1.95141574 8.12633907] Li, [1.918...  "
            ]
          },
          "execution_count": 3,
          "metadata": {},
          "output_type": "execute_result"
        }
      ],
      "source": [
        "# We can convert the query data to a list of dictionaries and store them as a dataframe\n",
        "\n",
        "query_dict = [{'material_id':doc.material_id, 'formula_pretty':doc.formula_pretty, 'structure':doc.structure} for doc in docs]\n",
        "\n",
        "df=pd.DataFrame(query_dict)\n",
        "df.head()"
      ]
    },
    {
      "cell_type": "markdown",
      "metadata": {
        "id": "MCIy2K-7wFUt"
      },
      "source": [
        "We could refine our query by using another parameter\n",
        "For example, we could filter out radioactivate elements and trainsition metals in our query using the `exclude_elements` parameter."
      ]
    },
    {
      "cell_type": "code",
      "execution_count": null,
      "metadata": {
        "colab": {
          "referenced_widgets": [
            "b5f0d0a5662a4407b9db628f05d9c890"
          ]
        },
        "id": "ezcJ2KZ7wFUu",
        "outputId": "b2fc50e7-f826-448b-b08c-c43ddecca301"
      },
      "outputs": [
        {
          "data": {
            "application/vnd.jupyter.widget-view+json": {
              "model_id": "b5f0d0a5662a4407b9db628f05d9c890",
              "version_major": 2,
              "version_minor": 0
            },
            "text/plain": [
              "Retrieving SummaryDoc documents:   0%|          | 0/2134 [00:00<?, ?it/s]"
            ]
          },
          "metadata": {},
          "output_type": "display_data"
        },
        {
          "name": "stdout",
          "output_type": "stream",
          "text": [
            "2134\n"
          ]
        },
        {
          "data": {
            "text/html": [
              "<div>\n",
              "<style scoped>\n",
              "    .dataframe tbody tr th:only-of-type {\n",
              "        vertical-align: middle;\n",
              "    }\n",
              "\n",
              "    .dataframe tbody tr th {\n",
              "        vertical-align: top;\n",
              "    }\n",
              "\n",
              "    .dataframe thead th {\n",
              "        text-align: right;\n",
              "    }\n",
              "</style>\n",
              "<table border=\"1\" class=\"dataframe\">\n",
              "  <thead>\n",
              "    <tr style=\"text-align: right;\">\n",
              "      <th></th>\n",
              "      <th>material_id</th>\n",
              "      <th>formula_pretty</th>\n",
              "      <th>structure</th>\n",
              "    </tr>\n",
              "  </thead>\n",
              "  <tbody>\n",
              "    <tr>\n",
              "      <th>0</th>\n",
              "      <td>mp-673134</td>\n",
              "      <td>LiSn2P3O10</td>\n",
              "      <td>[[0. 0. 0.] Li, [4.6093585 0.        0.       ...</td>\n",
              "    </tr>\n",
              "    <tr>\n",
              "      <th>1</th>\n",
              "      <td>mp-768193</td>\n",
              "      <td>Li2SmPCO7</td>\n",
              "      <td>[[3.57777451 4.35438574 7.43743083] Li, [6.739...</td>\n",
              "    </tr>\n",
              "    <tr>\n",
              "      <th>2</th>\n",
              "      <td>mp-1222529</td>\n",
              "      <td>Li4GeS4</td>\n",
              "      <td>[[1.17737752 1.95141574 8.12633907] Li, [1.918...</td>\n",
              "    </tr>\n",
              "    <tr>\n",
              "      <th>3</th>\n",
              "      <td>mp-604486</td>\n",
              "      <td>LiB3H18N5</td>\n",
              "      <td>[[3.04930518 4.51667255 8.65126328] Li, [9.086...</td>\n",
              "    </tr>\n",
              "    <tr>\n",
              "      <th>4</th>\n",
              "      <td>mp-1192133</td>\n",
              "      <td>LiBH4</td>\n",
              "      <td>[[3.30176025 5.36599456 7.37235749] Li, [3.301...</td>\n",
              "    </tr>\n",
              "  </tbody>\n",
              "</table>\n",
              "</div>"
            ],
            "text/plain": [
              "  material_id formula_pretty  \\\n",
              "0   mp-673134     LiSn2P3O10   \n",
              "1   mp-768193      Li2SmPCO7   \n",
              "2  mp-1222529        Li4GeS4   \n",
              "3   mp-604486      LiB3H18N5   \n",
              "4  mp-1192133          LiBH4   \n",
              "\n",
              "                                           structure  \n",
              "0  [[0. 0. 0.] Li, [4.6093585 0.        0.       ...  \n",
              "1  [[3.57777451 4.35438574 7.43743083] Li, [6.739...  \n",
              "2  [[1.17737752 1.95141574 8.12633907] Li, [1.918...  \n",
              "3  [[3.04930518 4.51667255 8.65126328] Li, [9.086...  \n",
              "4  [[3.30176025 5.36599456 7.37235749] Li, [3.301...  "
            ]
          },
          "execution_count": 4,
          "metadata": {},
          "output_type": "execute_result"
        }
      ],
      "source": [
        "# A list of radioactive elements\n",
        "radioactive_elements=['Tc', 'Pm', 'Po', 'At', 'Rn', 'Fr', 'Ra', 'Ac', 'Th', 'Pa', 'U', 'Np', 'Pu', 'Am', 'Cm', 'Bk', 'Cf', 'Es', 'Fm', 'Md', 'No', 'Lr']\n",
        "\n",
        "# A list of transition metal elements excluding Scandium (Sc), Yttrium (Y), Zirconium (Zr) and Niobium (Nb)\n",
        "transition_metals = ['Ti', 'V', 'Cr', 'Mn', 'Fe', 'Co', 'Ni', 'Cu', 'Zn', 'Mo', 'Tc', 'Ru', 'Rh', 'Pd', 'Ag', 'Cd', 'La', 'Hf', 'Ta', 'W', 'Re', 'Os', 'Ir', 'Pt', 'Au', 'Hg', 'Ac']\n",
        "\n",
        "# Merge the lists\n",
        "not_wanted = radioactive_elements + transition_metals\n",
        "\n",
        "# Query the Materials project \n",
        "\n",
        "with MPRester('<API_KEY>') as mpr:\n",
        "    docs = mpr.summary.search(elements=['Li'],\n",
        "                                exclude_elements=not_wanted,\n",
        "                                    band_gap=(1,None),\n",
        "                                    fields=['material_id','formula_pretty', 'structure'])\n",
        "\n",
        "print(len(docs))\n",
        "\n",
        "\n",
        "query_dict = [{'material_id':doc.material_id, 'formula_pretty':doc.formula_pretty, 'structure':doc.structure} for doc in docs]\n",
        "\n",
        "df=pd.DataFrame(query_dict)\n",
        "df.head()"
      ]
    },
    {
      "cell_type": "markdown",
      "metadata": {
        "id": "NIzDmXMpwFUv"
      },
      "source": [
        "## Experimental materials\n",
        "\n",
        "Using the API, we can also directly query for theoretical materials. The parameter `theoretical` is used to flag whether a material is theoretical.\n"
      ]
    },
    {
      "cell_type": "markdown",
      "metadata": {
        "id": "NEtyCdCLwFUw"
      },
      "source": [
        "### How many experimental materials are in Materials Project?\n",
        "\n",
        "We can query the Materials Project for the material ids of all the materials which are not theoretical."
      ]
    },
    {
      "cell_type": "code",
      "execution_count": null,
      "metadata": {
        "colab": {
          "referenced_widgets": [
            "b788fc9e2c034897a7d232e7b478c68a"
          ]
        },
        "id": "qQHQ_4NYwFUw",
        "outputId": "b08a0d8d-88a5-4a7a-e9e5-a1bf648e3254"
      },
      "outputs": [
        {
          "data": {
            "application/vnd.jupyter.widget-view+json": {
              "model_id": "b788fc9e2c034897a7d232e7b478c68a",
              "version_major": 2,
              "version_minor": 0
            },
            "text/plain": [
              "Retrieving SummaryDoc documents:   0%|          | 0/49794 [00:00<?, ?it/s]"
            ]
          },
          "metadata": {},
          "output_type": "display_data"
        },
        {
          "name": "stdout",
          "output_type": "stream",
          "text": [
            "In the Materials Project there are 49794 experimental materials.\n"
          ]
        }
      ],
      "source": [
        "#\n",
        "with MPRester('<API_KEY>') as mpr:\n",
        "    docs = mpr.summary.search(theoretical=False, fields=['material_id'])\n",
        "\n",
        "print(f'In the Materials Project there are {len(docs)} experimental materials.')"
      ]
    },
    {
      "cell_type": "markdown",
      "metadata": {
        "id": "vHFEwHVEwFUx"
      },
      "source": [
        "### How many experimental Lithium materials with a band gap >1eV, and including neither radioactive elements nor transition metals (except for Zr, Y, Sc, Nb)?"
      ]
    },
    {
      "cell_type": "code",
      "execution_count": null,
      "metadata": {
        "colab": {
          "referenced_widgets": [
            "41c89de849f644bc889f3e442ac47f98"
          ]
        },
        "id": "rr8z4qJWwFUy",
        "outputId": "8ff7ad4b-ff8e-4936-d7fb-3669b6168617"
      },
      "outputs": [
        {
          "data": {
            "application/vnd.jupyter.widget-view+json": {
              "model_id": "41c89de849f644bc889f3e442ac47f98",
              "version_major": 2,
              "version_minor": 0
            },
            "text/plain": [
              "Retrieving SummaryDoc documents:   0%|          | 0/837 [00:00<?, ?it/s]"
            ]
          },
          "metadata": {},
          "output_type": "display_data"
        },
        {
          "name": "stdout",
          "output_type": "stream",
          "text": [
            "837\n"
          ]
        },
        {
          "data": {
            "text/html": [
              "<div>\n",
              "<style scoped>\n",
              "    .dataframe tbody tr th:only-of-type {\n",
              "        vertical-align: middle;\n",
              "    }\n",
              "\n",
              "    .dataframe tbody tr th {\n",
              "        vertical-align: top;\n",
              "    }\n",
              "\n",
              "    .dataframe thead th {\n",
              "        text-align: right;\n",
              "    }\n",
              "</style>\n",
              "<table border=\"1\" class=\"dataframe\">\n",
              "  <thead>\n",
              "    <tr style=\"text-align: right;\">\n",
              "      <th></th>\n",
              "      <th>material_id</th>\n",
              "      <th>formula_pretty</th>\n",
              "      <th>structure</th>\n",
              "    </tr>\n",
              "  </thead>\n",
              "  <tbody>\n",
              "    <tr>\n",
              "      <th>0</th>\n",
              "      <td>mp-604486</td>\n",
              "      <td>LiB3H18N5</td>\n",
              "      <td>[[3.04930518 4.51667255 8.65126328] Li, [9.086...</td>\n",
              "    </tr>\n",
              "    <tr>\n",
              "      <th>1</th>\n",
              "      <td>mp-698470</td>\n",
              "      <td>LiAlH16(CN)4</td>\n",
              "      <td>[[-0.14350121  4.83921761  4.00122644] Li, [ 7...</td>\n",
              "    </tr>\n",
              "    <tr>\n",
              "      <th>2</th>\n",
              "      <td>mp-1194702</td>\n",
              "      <td>LiB(H3N)3</td>\n",
              "      <td>[[8.40812251 0.94939753 1.8015188 ] Li, [ 3.56...</td>\n",
              "    </tr>\n",
              "    <tr>\n",
              "      <th>3</th>\n",
              "      <td>mp-1180600</td>\n",
              "      <td>LiMg(AlH4)3</td>\n",
              "      <td>[[ 0.90344597  0.25675915 12.20769883] Li, [6....</td>\n",
              "    </tr>\n",
              "    <tr>\n",
              "      <th>4</th>\n",
              "      <td>mp-1020627</td>\n",
              "      <td>SrLiAl3N4</td>\n",
              "      <td>[[9.04414258 7.03410948 8.48250517] Sr, [0.486...</td>\n",
              "    </tr>\n",
              "  </tbody>\n",
              "</table>\n",
              "</div>"
            ],
            "text/plain": [
              "  material_id formula_pretty  \\\n",
              "0   mp-604486      LiB3H18N5   \n",
              "1   mp-698470   LiAlH16(CN)4   \n",
              "2  mp-1194702      LiB(H3N)3   \n",
              "3  mp-1180600    LiMg(AlH4)3   \n",
              "4  mp-1020627      SrLiAl3N4   \n",
              "\n",
              "                                           structure  \n",
              "0  [[3.04930518 4.51667255 8.65126328] Li, [9.086...  \n",
              "1  [[-0.14350121  4.83921761  4.00122644] Li, [ 7...  \n",
              "2  [[8.40812251 0.94939753 1.8015188 ] Li, [ 3.56...  \n",
              "3  [[ 0.90344597  0.25675915 12.20769883] Li, [6....  \n",
              "4  [[9.04414258 7.03410948 8.48250517] Sr, [0.486...  "
            ]
          },
          "execution_count": 6,
          "metadata": {},
          "output_type": "execute_result"
        }
      ],
      "source": [
        "with MPRester('<API_KEY>') as mpr:\n",
        "    docs = mpr.summary.search(elements=['Li'],\n",
        "                                exclude_elements=not_wanted,\n",
        "                                    band_gap=(1,None),\n",
        "                                    theoretical=False,\n",
        "                                    fields=['material_id','formula_pretty', 'structure'])\n",
        "\n",
        "print(len(docs))\n",
        "\n",
        "\n",
        "query_dict = [{'material_id':doc.material_id, 'formula_pretty':doc.formula_pretty, 'structure':doc.structure} for doc in docs]\n",
        "\n",
        "df=pd.DataFrame(query_dict)\n",
        "df.head()"
      ]
    }
  ],
  "metadata": {
    "kernelspec": {
      "display_name": "Python 3.9.13 ('m3gnet')",
      "language": "python",
      "name": "python3"
    },
    "language_info": {
      "codemirror_mode": {
        "name": "ipython",
        "version": 3
      },
      "file_extension": ".py",
      "mimetype": "text/x-python",
      "name": "python",
      "nbconvert_exporter": "python",
      "pygments_lexer": "ipython3",
      "version": "3.9.13"
    },
    "orig_nbformat": 4,
    "vscode": {
      "interpreter": {
        "hash": "b5ca2d0bdc40ebf50bad36ce0d7837c5bd264d80f88289887307a64c0350ac3c"
      }
    },
    "colab": {
      "provenance": []
    }
  },
  "nbformat": 4,
  "nbformat_minor": 0
}