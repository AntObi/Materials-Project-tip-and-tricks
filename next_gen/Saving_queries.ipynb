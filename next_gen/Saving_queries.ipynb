{
 "cells": [
  {
   "cell_type": "markdown",
   "metadata": {},
   "source": [
    "# Exporting query data\n",
    "\n",
    "This notebook will explore some ways in which we can export query data from the new API."
   ]
  },
  {
   "cell_type": "code",
   "execution_count": 9,
   "metadata": {},
   "outputs": [],
   "source": [
    "from mp_api.client import MPRester\n",
    "import pickle\n",
    "import json\n",
    "import pprint"
   ]
  },
  {
   "cell_type": "code",
   "execution_count": 3,
   "metadata": {},
   "outputs": [
    {
     "data": {
      "application/vnd.jupyter.widget-view+json": {
       "model_id": "071ef99d41044186aafc3ad84c15b60c",
       "version_major": 2,
       "version_minor": 0
      },
      "text/plain": [
       "Retrieving SummaryDoc documents:   0%|          | 0/1 [00:00<?, ?it/s]"
      ]
     },
     "metadata": {},
     "output_type": "display_data"
    }
   ],
   "source": [
    "with MPRester('4Ib91crOo7Uwxc0J021oHawyASCKnIVr') as mpr:\n",
    "    doc = mpr.summary.search(material_ids=['mp-22862'], fields=['material_id','elements'])"
   ]
  },
  {
   "cell_type": "markdown",
   "metadata": {},
   "source": [
    "The above query will return a list of `SummaryDoc` objects which are based on `pydantic`. This means the methods available to export `pydantic` objects can be used to export any of the `MPDataDoc` objects. (https://pydantic-docs.helpmanual.io/usage/exporting_models/)\n",
    "\n",
    "As we have queried for a specific Materials Project id, we have returned a list of one object."
   ]
  },
  {
   "cell_type": "code",
   "execution_count": 5,
   "metadata": {},
   "outputs": [
    {
     "name": "stdout",
     "output_type": "stream",
     "text": [
      "\u001b[4m\u001b[1mMPDataDoc<SummaryDoc>\u001b[0;0m\u001b[0;0m\n",
      "\u001b[1melements\u001b[0;0m=[Element Cl, Element Na],\n",
      "\u001b[1mmaterial_id\u001b[0;0m=MPID(mp-22862)\n",
      "\n",
      "\u001b[1mFields not requested:\u001b[0;0m\n",
      "['builder_meta', 'nsites', 'nelements', 'composition', 'composition_reduced', 'formula_pretty', 'formula_anonymous', 'chemsys', 'volume', 'density', 'density_atomic', 'symmetry', 'property_name', 'deprecated', 'deprecation_reasons', 'last_updated', 'origins', 'warnings', 'structure', 'task_ids', 'uncorrected_energy_per_atom', 'energy_per_atom', 'formation_energy_per_atom', 'energy_above_hull', 'is_stable', 'equilibrium_reaction_energy_per_atom', 'decomposes_to', 'xas', 'grain_boundaries', 'band_gap', 'cbm', 'vbm', 'efermi', 'is_gap_direct', 'is_metal', 'es_source_calc_id', 'bandstructure', 'dos', 'dos_energy_up', 'dos_energy_down', 'is_magnetic', 'ordering', 'total_magnetization', 'total_magnetization_normalized_vol', 'total_magnetization_normalized_formula_units', 'num_magnetic_sites', 'num_unique_magnetic_sites', 'types_of_magnetic_species', 'k_voigt', 'k_reuss', 'k_vrh', 'g_voigt', 'g_reuss', 'g_vrh', 'universal_anisotropy', 'homogeneous_poisson', 'e_total', 'e_ionic', 'e_electronic', 'n', 'e_ij_max', 'weighted_surface_energy_EV_PER_ANG2', 'weighted_surface_energy', 'weighted_work_function', 'surface_anisotropy', 'shape_factor', 'has_reconstructed', 'possible_species', 'has_props', 'theoretical', 'database_IDs']\n"
     ]
    }
   ],
   "source": [
    "print(doc[0])"
   ]
  },
  {
   "cell_type": "markdown",
   "metadata": {},
   "source": [
    "## View as a dictionary\n",
    "\n",
    "We can use the `.dict()` method to convert the `SummaryDoc` to a dictionary"
   ]
  },
  {
   "cell_type": "code",
   "execution_count": 12,
   "metadata": {},
   "outputs": [
    {
     "name": "stdout",
     "output_type": "stream",
     "text": [
      "dict_keys(['elements', 'material_id', 'fields_not_requested'])\n"
     ]
    }
   ],
   "source": [
    "print(doc[0].dict().keys())"
   ]
  },
  {
   "cell_type": "code",
   "execution_count": 10,
   "metadata": {},
   "outputs": [
    {
     "name": "stdout",
     "output_type": "stream",
     "text": [
      "{'elements': [Element Cl, Element Na],\n",
      " 'fields_not_requested': ['builder_meta',\n",
      "                          'nsites',\n",
      "                          'nelements',\n",
      "                          'composition',\n",
      "                          'composition_reduced',\n",
      "                          'formula_pretty',\n",
      "                          'formula_anonymous',\n",
      "                          'chemsys',\n",
      "                          'volume',\n",
      "                          'density',\n",
      "                          'density_atomic',\n",
      "                          'symmetry',\n",
      "                          'property_name',\n",
      "                          'deprecated',\n",
      "                          'deprecation_reasons',\n",
      "                          'last_updated',\n",
      "                          'origins',\n",
      "                          'warnings',\n",
      "                          'structure',\n",
      "                          'task_ids',\n",
      "                          'uncorrected_energy_per_atom',\n",
      "                          'energy_per_atom',\n",
      "                          'formation_energy_per_atom',\n",
      "                          'energy_above_hull',\n",
      "                          'is_stable',\n",
      "                          'equilibrium_reaction_energy_per_atom',\n",
      "                          'decomposes_to',\n",
      "                          'xas',\n",
      "                          'grain_boundaries',\n",
      "                          'band_gap',\n",
      "                          'cbm',\n",
      "                          'vbm',\n",
      "                          'efermi',\n",
      "                          'is_gap_direct',\n",
      "                          'is_metal',\n",
      "                          'es_source_calc_id',\n",
      "                          'bandstructure',\n",
      "                          'dos',\n",
      "                          'dos_energy_up',\n",
      "                          'dos_energy_down',\n",
      "                          'is_magnetic',\n",
      "                          'ordering',\n",
      "                          'total_magnetization',\n",
      "                          'total_magnetization_normalized_vol',\n",
      "                          'total_magnetization_normalized_formula_units',\n",
      "                          'num_magnetic_sites',\n",
      "                          'num_unique_magnetic_sites',\n",
      "                          'types_of_magnetic_species',\n",
      "                          'k_voigt',\n",
      "                          'k_reuss',\n",
      "                          'k_vrh',\n",
      "                          'g_voigt',\n",
      "                          'g_reuss',\n",
      "                          'g_vrh',\n",
      "                          'universal_anisotropy',\n",
      "                          'homogeneous_poisson',\n",
      "                          'e_total',\n",
      "                          'e_ionic',\n",
      "                          'e_electronic',\n",
      "                          'n',\n",
      "                          'e_ij_max',\n",
      "                          'weighted_surface_energy_EV_PER_ANG2',\n",
      "                          'weighted_surface_energy',\n",
      "                          'weighted_work_function',\n",
      "                          'surface_anisotropy',\n",
      "                          'shape_factor',\n",
      "                          'has_reconstructed',\n",
      "                          'possible_species',\n",
      "                          'has_props',\n",
      "                          'theoretical',\n",
      "                          'database_IDs'],\n",
      " 'material_id': MPID(mp-22862)}\n"
     ]
    }
   ],
   "source": [
    "pprint.pprint(doc[0].dict())"
   ]
  },
  {
   "cell_type": "markdown",
   "metadata": {},
   "source": [
    "From the above output, we can see both the key:value pairs for the fields that we requested, as well as another key, 'fields_not_requested', which has the value of a list of the fields not requested. To produce a dictionary which excludes this key, we can call the `dict` method with the argument `exclude={'fields_not_requested'}`, as shown below."
   ]
  },
  {
   "cell_type": "code",
   "execution_count": 14,
   "metadata": {},
   "outputs": [
    {
     "name": "stdout",
     "output_type": "stream",
     "text": [
      "{'elements': [Element Cl, Element Na], 'material_id': MPID(mp-22862)}\n"
     ]
    }
   ],
   "source": [
    "pprint.pprint(doc[0].dict(exclude={'fields_not_requested'}))"
   ]
  },
  {
   "cell_type": "markdown",
   "metadata": {},
   "source": []
  }
 ],
 "metadata": {
  "kernelspec": {
   "display_name": "Python 3.9.13 ('m3gnet')",
   "language": "python",
   "name": "python3"
  },
  "language_info": {
   "codemirror_mode": {
    "name": "ipython",
    "version": 3
   },
   "file_extension": ".py",
   "mimetype": "text/x-python",
   "name": "python",
   "nbconvert_exporter": "python",
   "pygments_lexer": "ipython3",
   "version": "3.9.13"
  },
  "orig_nbformat": 4,
  "vscode": {
   "interpreter": {
    "hash": "b5ca2d0bdc40ebf50bad36ce0d7837c5bd264d80f88289887307a64c0350ac3c"
   }
  }
 },
 "nbformat": 4,
 "nbformat_minor": 2
}
