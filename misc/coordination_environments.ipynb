{
 "cells": [
  {
   "cell_type": "markdown",
   "metadata": {},
   "source": [
    "# Identifying coordination environments\n",
    "\n",
    "The Materials Virtual Lab have a notebook which describes the use of `ChemEnv` to identify coordination environments (http://matgenb.materialsvirtuallab.org/2018/01/01/ChemEnv-How-to-automatically-identify-coordination-environments-in-a-structure.html).\n",
    "\n",
    "This notebook will introduce you to another tool within the `pymatgen` package which can be used to determine coordination environments: `CrystalNN`. Additionally, another tool has been built on top of CrystalNN to generate crystallographic text descriptions for material structures `Robocrystallographer`."
   ]
  },
  {
   "cell_type": "markdown",
   "metadata": {},
   "source": [
    "## Installation"
   ]
  },
  {
   "cell_type": "code",
   "execution_count": 1,
   "metadata": {},
   "outputs": [],
   "source": [
    "import pprint\n",
    "\n",
    "from pymatgen.ext.matproj import MPRester\n",
    "from pymatgen.analysis.local_env import CrystalNN\n",
    "mpr = MPRester()"
   ]
  },
  {
   "cell_type": "markdown",
   "metadata": {},
   "source": [
    "## Query the Materials Project (MP) for a structure\n",
    "Let's load a crystal structure from the materials project"
   ]
  },
  {
   "cell_type": "code",
   "execution_count": 2,
   "metadata": {},
   "outputs": [
    {
     "name": "stdout",
     "output_type": "stream",
     "text": [
      "Full Formula (Si3 O6)\n",
      "Reduced Formula: SiO2\n",
      "abc   :   5.021503   5.021503   5.510570\n",
      "angles:  90.000000  90.000000 120.000008\n",
      "Sites (9)\n",
      "  #  SP           a         b         c    magmom\n",
      "---  ----  --------  --------  --------  --------\n",
      "  0  Si    0.523695  0.523695  0                0\n",
      "  1  Si    0         0.476305  0.666667         0\n",
      "  2  Si    0.476305  0         0.333333         0\n",
      "  3  O     0.256094  0.414854  0.794543        -0\n",
      "  4  O     0.585146  0.84124   0.127876        -0\n",
      "  5  O     0.15876   0.743906  0.46121         -0\n",
      "  6  O     0.414854  0.256094  0.205457        -0\n",
      "  7  O     0.743906  0.15876   0.53879         -0\n",
      "  8  O     0.84124   0.585146  0.872124        -0\n"
     ]
    }
   ],
   "source": [
    "struct = mpr.get_structure_by_material_id(\"mp-7000\")\n",
    "print(struct)"
   ]
  },
  {
   "cell_type": "markdown",
   "metadata": {},
   "source": [
    "Here, we have the structure of alpha-SiO<sub>2</sub>.\n",
    "![mp-7000_SiO2](SiO2_mp-7000_annotated.png)\n",
    "\n",
    " The graphic is created with VESTA: K. Momma and F. Izumi, \"VESTA 3 for three-dimensional visualization of crystal, volumetric and morphology data,\" *J. Appl. Cryst.,* **2011**, *44*, 1272."
   ]
  },
  {
   "cell_type": "markdown",
   "metadata": {},
   "source": [
    "## Alternatively: Use the new materials project API, `mp_api`"
   ]
  },
  {
   "cell_type": "code",
   "execution_count": 3,
   "metadata": {},
   "outputs": [],
   "source": [
    "# Remove the comment\n",
    "#from mp_api.client import MPRester \n",
    "#with MPRester() as mpr:\n",
    "#    struct = mpr.get_structure_by_material_id(\"mp-7000\")"
   ]
  },
  {
   "cell_type": "markdown",
   "metadata": {},
   "source": [
    "## Using CrystalNN\n",
    "\n",
    "The `pymatgen.analysis.local_env` module contains many classes which can perform analyses of local environments. For this tutorial, we will just focus on [`CrystalNN`](https://pymatgen.org/pymatgen.analysis.local_env.html#pymatgen.analysis.local_env.CrystalNN).\n",
    "\n",
    "We will demonstrate a very straightforward method for finding coordination environments.\n"
   ]
  },
  {
   "cell_type": "code",
   "execution_count": 4,
   "metadata": {},
   "outputs": [
    {
     "name": "stdout",
     "output_type": "stream",
     "text": [
      " Site 0 contains the element, Si, which has a coordination number of 4 \n",
      "\n",
      " Site 1 contains the element, Si, which has a coordination number of 4 \n",
      "\n",
      " Site 2 contains the element, Si, which has a coordination number of 4 \n",
      "\n",
      " Site 3 contains the element, O, which has a coordination number of 2 \n",
      "\n",
      " Site 4 contains the element, O, which has a coordination number of 2 \n",
      "\n",
      " Site 5 contains the element, O, which has a coordination number of 2 \n",
      "\n",
      " Site 6 contains the element, O, which has a coordination number of 2 \n",
      "\n",
      " Site 7 contains the element, O, which has a coordination number of 2 \n",
      "\n",
      " Site 8 contains the element, O, which has a coordination number of 2 \n",
      "\n"
     ]
    },
    {
     "name": "stderr",
     "output_type": "stream",
     "text": [
      "/Users/aonwu/.conda/envs/atomate2_env/lib/python3.8/site-packages/pymatgen/analysis/local_env.py:4133: UserWarning: No oxidation states specified on sites! For better results, set the site oxidation states in the structure.\n",
      "  warnings.warn(\n",
      "/Users/aonwu/.conda/envs/atomate2_env/lib/python3.8/site-packages/pymatgen/analysis/local_env.py:3936: UserWarning: CrystalNN: cannot locate an appropriate radius, covalent or atomic radii will be used, this can lead to non-optimal results.\n",
      "  warnings.warn(\n"
     ]
    }
   ],
   "source": [
    "# Initialise CrystalNN with default parameters\n",
    "cnn  = CrystalNN()\n",
    "\n",
    "# Iterate over the structure to find the coordination number of each site\n",
    "for i, n in enumerate(struct):\n",
    "    print(f' Site {i} contains the element, {n.species_string}, which has a coordination number of {cnn.get_cn(struct, i)} \\n')"
   ]
  },
  {
   "cell_type": "markdown",
   "metadata": {},
   "source": [
    "From the above output, we can see it is quite straightforward to obtain the coordination number of the sites within a material. However, the output is quite redundant as each O  in SiO<sub>2</sub> is equivalent. Likewise for Si. For a much larger unit cell, this output would not be that helpful. \n",
    "\n",
    "We can solve this issue in two ways:\n",
    "- Using symmetry by using spglib\n",
    "- Representing the crystal as a graph\n"
   ]
  },
  {
   "cell_type": "markdown",
   "metadata": {},
   "source": [
    "### Using symmetry: Interfacing to spglib\n",
    "\n",
    "The [`pymatgen.symmetry.analyzer`](https://pymatgen.org/pymatgen.symmetry.analyzer.html) module acts as an interface to `spglib`.\n",
    "\n",
    "We will be using the `SpacegroupAnalyzer` class to determine the equivalent sites in alpha-SiO<sub>2</sub>"
   ]
  },
  {
   "cell_type": "code",
   "execution_count": 5,
   "metadata": {},
   "outputs": [
    {
     "name": "stdout",
     "output_type": "stream",
     "text": [
      " There are 3 equivalent Si atoms in SiO2\n",
      " There are 6 equivalent O atoms in SiO2\n"
     ]
    }
   ],
   "source": [
    "# Import the class\n",
    "from pymatgen.symmetry.analyzer import SpacegroupAnalyzer\n",
    "\n",
    "\n",
    "sga = SpacegroupAnalyzer(struct)\n",
    "\n",
    "# Get the equivalent sites in the structure\n",
    "equivalent_sites = sga.get_symmetry_dataset()[\"equivalent_atoms\"]\n",
    "\n",
    "unique_sites = set(equivalent_sites)\n",
    "\n",
    "for i in unique_sites:\n",
    "    print(f' There are {list(equivalent_sites).count(i)} equivalent {struct[i].species_string} atoms in SiO2')"
   ]
  },
  {
   "cell_type": "markdown",
   "metadata": {},
   "source": [
    "With this consideration, we can re-do our coordination number analysis for only the inequivalent sites within the structure"
   ]
  },
  {
   "cell_type": "code",
   "execution_count": 6,
   "metadata": {},
   "outputs": [
    {
     "name": "stdout",
     "output_type": "stream",
     "text": [
      "Si has a coordination number of 4\n",
      "O has a coordination number of 2\n"
     ]
    }
   ],
   "source": [
    "for i in unique_sites:\n",
    "    print(f'{struct[i].species_string} has a coordination number of {cnn.get_cn(struct, i)}')"
   ]
  },
  {
   "cell_type": "markdown",
   "metadata": {},
   "source": [
    "### Structures as a graph \n",
    "The [`pymatgen.analysis.graphs`](https://pymatgen.org/pymatgen.analysis.graphs.html) module enables the usage of a graph representation of the crystal.\n",
    "\n",
    "`CrystalNN` has a method (inherited from its `NearNeighbors` base class), [`get_bonded_structure`](https://pymatgen.org/pymatgen.analysis.local_env.html#pymatgen.analysis.local_env.NearNeighbors.get_bonded_structure) which takes in a pymatgen `Structure` object and returns a `StructureGraph` object.\n",
    "\n",
    "The `StructureGraph` has a method, [`types_of_coordination_environments`](https://pymatgen.org/pymatgen.analysis.graphs.html#pymatgen.analysis.graphs.StructureGraph.types_of_coordination_environments), which returns a list of the coordination environments present in the `StructureGraph`."
   ]
  },
  {
   "cell_type": "code",
   "execution_count": 7,
   "metadata": {},
   "outputs": [
    {
     "name": "stdout",
     "output_type": "stream",
     "text": [
      "['O-Si(2)', 'Si-O(4)']\n"
     ]
    }
   ],
   "source": [
    "# Get the bonded structure - this produces a StructureGraph object\n",
    "bonded=cnn.get_bonded_structure(struct)\n",
    "\n",
    "# This will output the coordination environments present in the structure\n",
    "print(bonded.types_of_coordination_environments())\n"
   ]
  },
  {
   "cell_type": "markdown",
   "metadata": {},
   "source": [
    "The above output shows that there are two different coordination environments in alpha-SiO<sub>2</sub>:\n",
    "\n",
    "- 'O-Si(2)': This output indicates that O in alpha-SiO<sub>2</sub> is bonded to two other Si atoms and hence has a coordination number of 2.\n",
    "- 'Si-O(4)': This output indicates that Si in alpha-SiO<sub>2</sub> is bonded to four other O atoms and hence has a coordination number of 4."
   ]
  },
  {
   "cell_type": "markdown",
   "metadata": {},
   "source": [
    "## Using Robocrystallographer\n",
    "\n",
    "[Robocrystallographer](https://hackingmaterials.lbl.gov/robocrystallographer/index.html) is a tool which can be used to generate text descriptions of structures. "
   ]
  },
  {
   "cell_type": "code",
   "execution_count": 8,
   "metadata": {},
   "outputs": [
    {
     "name": "stderr",
     "output_type": "stream",
     "text": [
      "Reading file /Users/aonwu/.conda/envs/atomate2_env/lib/python3.8/site-packages/robocrys/condense/mineral_db.json.gz: 0it [00:00, ?it/s]2     | 77/180 [00:00<00:00, 766.92it/s]\n",
      "Decoding objects from /Users/aonwu/.conda/envs/atomate2_env/lib/python3.8/site-packages/robocrys/condense/mineral_db.json.gz: 100%|##########| 180/180 [00:00<00:00, 1075.00it/s]\n",
      "/Users/aonwu/.conda/envs/atomate2_env/lib/python3.8/site-packages/pymatgen/analysis/local_env.py:4133: UserWarning: No oxidation states specified on sites! For better results, set the site oxidation states in the structure.\n",
      "  warnings.warn(\n",
      "/Users/aonwu/.conda/envs/atomate2_env/lib/python3.8/site-packages/pymatgen/analysis/local_env.py:3936: UserWarning: CrystalNN: cannot locate an appropriate radius, covalent or atomic radii will be used, this can lead to non-optimal results.\n",
      "  warnings.warn(\n",
      "/Users/aonwu/.conda/envs/atomate2_env/lib/python3.8/site-packages/pymatgen/analysis/local_env.py:4133: UserWarning: No oxidation states specified on sites! For better results, set the site oxidation states in the structure.\n",
      "  warnings.warn(\n",
      "/Users/aonwu/.conda/envs/atomate2_env/lib/python3.8/site-packages/pymatgen/analysis/local_env.py:3936: UserWarning: CrystalNN: cannot locate an appropriate radius, covalent or atomic radii will be used, this can lead to non-optimal results.\n",
      "  warnings.warn(\n"
     ]
    },
    {
     "name": "stdout",
     "output_type": "stream",
     "text": [
      "SiO2 is quartz (alpha) structured and crystallizes in the trigonal P3_121 space group. Si(1) is bonded to four equivalent O(1) atoms to form corner-sharing SiO4 tetrahedra. All Si(1)–O(1) bond lengths are 1.63 Å. O(1) is bonded in a bent 150 degrees geometry to two equivalent Si(1) atoms.\n"
     ]
    }
   ],
   "source": [
    "# Imports\n",
    "# Uncomment this line if robocrys has not been installed\n",
    "# !pip install robocrys\n",
    "from robocrys import StructureCondenser, StructureDescriber\n",
    "import pprint\n",
    "\n",
    "condenser = StructureCondenser()\n",
    "describer = StructureDescriber()\n",
    "\n",
    "condensed_structure = condenser.condense_structure(struct)\n",
    "description = describer.describe(condensed_structure)\n",
    "\n",
    "#pprint.pprint(condensed_structure)\n",
    "print(description)"
   ]
  },
  {
   "cell_type": "markdown",
   "metadata": {},
   "source": [
    "The above output provides a description of the crystal provides a lot of important information. A lot of this information is available in the intermediate `condensed_structure` variable which is a JSON representation of the structure."
   ]
  },
  {
   "cell_type": "code",
   "execution_count": 9,
   "metadata": {},
   "outputs": [
    {
     "name": "stdout",
     "output_type": "stream",
     "text": [
      "{'angles': {0: {0: {'corner': [146.72642164417323,\n",
      "                               146.72642164417329,\n",
      "                               146.72642164417329,\n",
      "                               146.72642164417329]}},\n",
      "            3: {3: {'corner': [108.33914884657402,\n",
      "                               109.19814528445058,\n",
      "                               110.52931187496212,\n",
      "                               110.52931187496212,\n",
      "                               109.19814528445052,\n",
      "                               109.04217117173853]}}},\n",
      " 'component_makeup': [0],\n",
      " 'components': {0: {'dimensionality': 3,\n",
      "                    'formula': 'SiO2',\n",
      "                    'molecule_name': None,\n",
      "                    'orientation': None,\n",
      "                    'sites': [0, 0, 0, 3, 3, 3, 3, 3, 3]}},\n",
      " 'crystal_system': 'trigonal',\n",
      " 'dimensionality': 3,\n",
      " 'distances': {0: {3: [1.625527396842719,\n",
      "                       1.6255273968427193,\n",
      "                       1.6284404722925014,\n",
      "                       1.6284404722925014]},\n",
      "               3: {0: [1.6255273968427193, 1.6284404722925014]}},\n",
      " 'formula': 'SiO2',\n",
      " 'mineral': {'distance': -1,\n",
      "             'n_species_type_match': True,\n",
      "             'simplified': False,\n",
      "             'type': 'quartz (alpha)'},\n",
      " 'nnn_distances': {0: {0: {'corner': [3.117753432028888,\n",
      "                                      3.1177534320288887,\n",
      "                                      3.1177534320288887,\n",
      "                                      3.1177534320288887]}},\n",
      "                   3: {3: {'corner': [2.6358026762638183,\n",
      "                                      2.652369684067065,\n",
      "                                      2.6740875983912598,\n",
      "                                      2.6740875983912593,\n",
      "                                      2.652369684067065,\n",
      "                                      2.652173154438352]}}},\n",
      " 'sites': {0: {'element': 'Si',\n",
      "               'geometry': {'likeness': 0.9940319496362562,\n",
      "                            'type': 'tetrahedral'},\n",
      "               'nn': [3, 3, 3, 3],\n",
      "               'nnn': {'corner': [0, 0, 0, 0]},\n",
      "               'poly_formula': 'O4',\n",
      "               'sym_labels': (1,)},\n",
      "           3: {'element': 'O',\n",
      "               'geometry': {'likeness': 0.9713927441125383,\n",
      "                            'type': 'bent 150 degrees'},\n",
      "               'nn': [0, 0],\n",
      "               'nnn': {'corner': [3, 3, 3, 3, 3, 3]},\n",
      "               'poly_formula': None,\n",
      "               'sym_labels': (1,)}},\n",
      " 'spg_symbol': 'P3_121',\n",
      " 'vdw_heterostructure_info': None}\n"
     ]
    }
   ],
   "source": [
    "# Print the JSON format\n",
    "pprint.pprint(condensed_structure)"
   ]
  },
  {
   "cell_type": "markdown",
   "metadata": {},
   "source": [
    "The information that we are interested in is in the 'sites' key"
   ]
  },
  {
   "cell_type": "code",
   "execution_count": 10,
   "metadata": {},
   "outputs": [
    {
     "name": "stdout",
     "output_type": "stream",
     "text": [
      "{0: {'element': 'Si',\n",
      "     'geometry': {'likeness': 0.9940319496362562, 'type': 'tetrahedral'},\n",
      "     'nn': [3, 3, 3, 3],\n",
      "     'nnn': {'corner': [0, 0, 0, 0]},\n",
      "     'poly_formula': 'O4',\n",
      "     'sym_labels': (1,)},\n",
      " 3: {'element': 'O',\n",
      "     'geometry': {'likeness': 0.9713927441125383, 'type': 'bent 150 degrees'},\n",
      "     'nn': [0, 0],\n",
      "     'nnn': {'corner': [3, 3, 3, 3, 3, 3]},\n",
      "     'poly_formula': None,\n",
      "     'sym_labels': (1,)}}\n"
     ]
    }
   ],
   "source": [
    "pprint.pprint(condensed_structure['sites'])"
   ]
  },
  {
   "cell_type": "markdown",
   "metadata": {},
   "source": [
    "In the above output, the keys, 0 and 3, refer to the unique sites in the structure. Within the nested dictionaries, the 'geometry' key contains another nested dictionary where the key 'type' provides information about the coordination environment."
   ]
  }
 ],
 "metadata": {
  "kernelspec": {
   "display_name": "Python 3.8.13 ('atomate2_env')",
   "language": "python",
   "name": "python3"
  },
  "language_info": {
   "codemirror_mode": {
    "name": "ipython",
    "version": 3
   },
   "file_extension": ".py",
   "mimetype": "text/x-python",
   "name": "python",
   "nbconvert_exporter": "python",
   "pygments_lexer": "ipython3",
   "version": "3.8.13"
  },
  "orig_nbformat": 4,
  "vscode": {
   "interpreter": {
    "hash": "51a9790b1e1fb99c47e29a52948385f9f109e985a330917619522d69eb0f6192"
   }
  }
 },
 "nbformat": 4,
 "nbformat_minor": 2
}
